{
 "cells": [
  {
   "cell_type": "code",
   "execution_count": 1,
   "id": "0ddb71c7",
   "metadata": {},
   "outputs": [],
   "source": [
    "# task1\n",
    "import pandas as pd\n",
    "import matplotlib.pyplot as plt\n",
    "dfs = pd.read_excel('ANZ synthesised transaction dataset.xlsx', sheet_name=None)"
   ]
  },
  {
   "cell_type": "code",
   "execution_count": 2,
   "id": "7325b92a",
   "metadata": {},
   "outputs": [],
   "source": [
    "df = dfs['DSynth_Output_100c_3m_v3']"
   ]
  },
  {
   "cell_type": "code",
   "execution_count": 3,
   "id": "b906773c",
   "metadata": {},
   "outputs": [
    {
     "data": {
      "text/html": [
       "<div>\n",
       "<style scoped>\n",
       "    .dataframe tbody tr th:only-of-type {\n",
       "        vertical-align: middle;\n",
       "    }\n",
       "\n",
       "    .dataframe tbody tr th {\n",
       "        vertical-align: top;\n",
       "    }\n",
       "\n",
       "    .dataframe thead th {\n",
       "        text-align: right;\n",
       "    }\n",
       "</style>\n",
       "<table border=\"1\" class=\"dataframe\">\n",
       "  <thead>\n",
       "    <tr style=\"text-align: right;\">\n",
       "      <th></th>\n",
       "      <th>status</th>\n",
       "      <th>card_present_flag</th>\n",
       "      <th>bpay_biller_code</th>\n",
       "      <th>account</th>\n",
       "      <th>currency</th>\n",
       "      <th>long_lat</th>\n",
       "      <th>txn_description</th>\n",
       "      <th>merchant_id</th>\n",
       "      <th>merchant_code</th>\n",
       "      <th>first_name</th>\n",
       "      <th>...</th>\n",
       "      <th>age</th>\n",
       "      <th>merchant_suburb</th>\n",
       "      <th>merchant_state</th>\n",
       "      <th>extraction</th>\n",
       "      <th>amount</th>\n",
       "      <th>transaction_id</th>\n",
       "      <th>country</th>\n",
       "      <th>customer_id</th>\n",
       "      <th>merchant_long_lat</th>\n",
       "      <th>movement</th>\n",
       "    </tr>\n",
       "  </thead>\n",
       "  <tbody>\n",
       "    <tr>\n",
       "      <th>0</th>\n",
       "      <td>authorized</td>\n",
       "      <td>1.0</td>\n",
       "      <td>NaN</td>\n",
       "      <td>ACC-1598451071</td>\n",
       "      <td>AUD</td>\n",
       "      <td>153.41 -27.95</td>\n",
       "      <td>POS</td>\n",
       "      <td>81c48296-73be-44a7-befa-d053f48ce7cd</td>\n",
       "      <td>NaN</td>\n",
       "      <td>Diana</td>\n",
       "      <td>...</td>\n",
       "      <td>26</td>\n",
       "      <td>Ashmore</td>\n",
       "      <td>QLD</td>\n",
       "      <td>2018-08-01T01:01:15.000+0000</td>\n",
       "      <td>16.25</td>\n",
       "      <td>a623070bfead4541a6b0fff8a09e706c</td>\n",
       "      <td>Australia</td>\n",
       "      <td>CUS-2487424745</td>\n",
       "      <td>153.38 -27.99</td>\n",
       "      <td>debit</td>\n",
       "    </tr>\n",
       "    <tr>\n",
       "      <th>1</th>\n",
       "      <td>authorized</td>\n",
       "      <td>0.0</td>\n",
       "      <td>NaN</td>\n",
       "      <td>ACC-1598451071</td>\n",
       "      <td>AUD</td>\n",
       "      <td>153.41 -27.95</td>\n",
       "      <td>SALES-POS</td>\n",
       "      <td>830a451c-316e-4a6a-bf25-e37caedca49e</td>\n",
       "      <td>NaN</td>\n",
       "      <td>Diana</td>\n",
       "      <td>...</td>\n",
       "      <td>26</td>\n",
       "      <td>Sydney</td>\n",
       "      <td>NSW</td>\n",
       "      <td>2018-08-01T01:13:45.000+0000</td>\n",
       "      <td>14.19</td>\n",
       "      <td>13270a2a902145da9db4c951e04b51b9</td>\n",
       "      <td>Australia</td>\n",
       "      <td>CUS-2487424745</td>\n",
       "      <td>151.21 -33.87</td>\n",
       "      <td>debit</td>\n",
       "    </tr>\n",
       "    <tr>\n",
       "      <th>2</th>\n",
       "      <td>authorized</td>\n",
       "      <td>1.0</td>\n",
       "      <td>NaN</td>\n",
       "      <td>ACC-1222300524</td>\n",
       "      <td>AUD</td>\n",
       "      <td>151.23 -33.94</td>\n",
       "      <td>POS</td>\n",
       "      <td>835c231d-8cdf-4e96-859d-e9d571760cf0</td>\n",
       "      <td>NaN</td>\n",
       "      <td>Michael</td>\n",
       "      <td>...</td>\n",
       "      <td>38</td>\n",
       "      <td>Sydney</td>\n",
       "      <td>NSW</td>\n",
       "      <td>2018-08-01T01:26:15.000+0000</td>\n",
       "      <td>6.42</td>\n",
       "      <td>feb79e7ecd7048a5a36ec889d1a94270</td>\n",
       "      <td>Australia</td>\n",
       "      <td>CUS-2142601169</td>\n",
       "      <td>151.21 -33.87</td>\n",
       "      <td>debit</td>\n",
       "    </tr>\n",
       "    <tr>\n",
       "      <th>3</th>\n",
       "      <td>authorized</td>\n",
       "      <td>1.0</td>\n",
       "      <td>NaN</td>\n",
       "      <td>ACC-1037050564</td>\n",
       "      <td>AUD</td>\n",
       "      <td>153.10 -27.66</td>\n",
       "      <td>SALES-POS</td>\n",
       "      <td>48514682-c78a-4a88-b0da-2d6302e64673</td>\n",
       "      <td>NaN</td>\n",
       "      <td>Rhonda</td>\n",
       "      <td>...</td>\n",
       "      <td>40</td>\n",
       "      <td>Buderim</td>\n",
       "      <td>QLD</td>\n",
       "      <td>2018-08-01T01:38:45.000+0000</td>\n",
       "      <td>40.90</td>\n",
       "      <td>2698170da3704fd981b15e64a006079e</td>\n",
       "      <td>Australia</td>\n",
       "      <td>CUS-1614226872</td>\n",
       "      <td>153.05 -26.68</td>\n",
       "      <td>debit</td>\n",
       "    </tr>\n",
       "    <tr>\n",
       "      <th>4</th>\n",
       "      <td>authorized</td>\n",
       "      <td>1.0</td>\n",
       "      <td>NaN</td>\n",
       "      <td>ACC-1598451071</td>\n",
       "      <td>AUD</td>\n",
       "      <td>153.41 -27.95</td>\n",
       "      <td>SALES-POS</td>\n",
       "      <td>b4e02c10-0852-4273-b8fd-7b3395e32eb0</td>\n",
       "      <td>NaN</td>\n",
       "      <td>Diana</td>\n",
       "      <td>...</td>\n",
       "      <td>26</td>\n",
       "      <td>Mermaid Beach</td>\n",
       "      <td>QLD</td>\n",
       "      <td>2018-08-01T01:51:15.000+0000</td>\n",
       "      <td>3.25</td>\n",
       "      <td>329adf79878c4cf0aeb4188b4691c266</td>\n",
       "      <td>Australia</td>\n",
       "      <td>CUS-2487424745</td>\n",
       "      <td>153.44 -28.06</td>\n",
       "      <td>debit</td>\n",
       "    </tr>\n",
       "    <tr>\n",
       "      <th>...</th>\n",
       "      <td>...</td>\n",
       "      <td>...</td>\n",
       "      <td>...</td>\n",
       "      <td>...</td>\n",
       "      <td>...</td>\n",
       "      <td>...</td>\n",
       "      <td>...</td>\n",
       "      <td>...</td>\n",
       "      <td>...</td>\n",
       "      <td>...</td>\n",
       "      <td>...</td>\n",
       "      <td>...</td>\n",
       "      <td>...</td>\n",
       "      <td>...</td>\n",
       "      <td>...</td>\n",
       "      <td>...</td>\n",
       "      <td>...</td>\n",
       "      <td>...</td>\n",
       "      <td>...</td>\n",
       "      <td>...</td>\n",
       "      <td>...</td>\n",
       "    </tr>\n",
       "    <tr>\n",
       "      <th>12038</th>\n",
       "      <td>authorized</td>\n",
       "      <td>0.0</td>\n",
       "      <td>NaN</td>\n",
       "      <td>ACC-3021093232</td>\n",
       "      <td>AUD</td>\n",
       "      <td>149.83 -29.47</td>\n",
       "      <td>POS</td>\n",
       "      <td>32aa73dc-b7c2-4161-b14d-6271b96ce792</td>\n",
       "      <td>NaN</td>\n",
       "      <td>Melissa</td>\n",
       "      <td>...</td>\n",
       "      <td>30</td>\n",
       "      <td>Ringwood</td>\n",
       "      <td>VIC</td>\n",
       "      <td>2018-10-31T23:09:06.000+0000</td>\n",
       "      <td>9.79</td>\n",
       "      <td>f2e3e695c2ee4c50a4c8747f852cbe2e</td>\n",
       "      <td>Australia</td>\n",
       "      <td>CUS-55310383</td>\n",
       "      <td>145.23 -37.81</td>\n",
       "      <td>debit</td>\n",
       "    </tr>\n",
       "    <tr>\n",
       "      <th>12039</th>\n",
       "      <td>authorized</td>\n",
       "      <td>1.0</td>\n",
       "      <td>NaN</td>\n",
       "      <td>ACC-1608363396</td>\n",
       "      <td>AUD</td>\n",
       "      <td>151.22 -33.87</td>\n",
       "      <td>SALES-POS</td>\n",
       "      <td>296a0500-8552-48ac-ac81-ec37065b568e</td>\n",
       "      <td>NaN</td>\n",
       "      <td>Robert</td>\n",
       "      <td>...</td>\n",
       "      <td>20</td>\n",
       "      <td>Casula</td>\n",
       "      <td>NSW</td>\n",
       "      <td>2018-10-31T23:21:46.000+0000</td>\n",
       "      <td>63.87</td>\n",
       "      <td>56e147e5485f4683b9076fcaaed76640</td>\n",
       "      <td>Australia</td>\n",
       "      <td>CUS-2688605418</td>\n",
       "      <td>150.88 -33.96</td>\n",
       "      <td>debit</td>\n",
       "    </tr>\n",
       "    <tr>\n",
       "      <th>12040</th>\n",
       "      <td>authorized</td>\n",
       "      <td>1.0</td>\n",
       "      <td>NaN</td>\n",
       "      <td>ACC-3827517394</td>\n",
       "      <td>AUD</td>\n",
       "      <td>151.12 -33.89</td>\n",
       "      <td>POS</td>\n",
       "      <td>e5975ab4-08f7-4725-a369-24cc0e35ed6e</td>\n",
       "      <td>NaN</td>\n",
       "      <td>Craig</td>\n",
       "      <td>...</td>\n",
       "      <td>28</td>\n",
       "      <td>Kings Park</td>\n",
       "      <td>NSW</td>\n",
       "      <td>2018-10-31T23:34:25.000+0000</td>\n",
       "      <td>43.96</td>\n",
       "      <td>2fdd4681827343f6af2e6519644a684a</td>\n",
       "      <td>Australia</td>\n",
       "      <td>CUS-2663907001</td>\n",
       "      <td>150.92 -33.74</td>\n",
       "      <td>debit</td>\n",
       "    </tr>\n",
       "    <tr>\n",
       "      <th>12041</th>\n",
       "      <td>authorized</td>\n",
       "      <td>1.0</td>\n",
       "      <td>NaN</td>\n",
       "      <td>ACC-2920611728</td>\n",
       "      <td>AUD</td>\n",
       "      <td>144.96 -37.76</td>\n",
       "      <td>SALES-POS</td>\n",
       "      <td>af49051a-591d-4b08-bd3c-27730b70ed37</td>\n",
       "      <td>NaN</td>\n",
       "      <td>Tyler</td>\n",
       "      <td>...</td>\n",
       "      <td>69</td>\n",
       "      <td>Oakleigh</td>\n",
       "      <td>VIC</td>\n",
       "      <td>2018-10-31T23:47:05.000+0000</td>\n",
       "      <td>30.77</td>\n",
       "      <td>74aa9cd7e4af4c6d9cd7dbd28e9aedc9</td>\n",
       "      <td>Australia</td>\n",
       "      <td>CUS-1388323263</td>\n",
       "      <td>145.09 -37.91</td>\n",
       "      <td>debit</td>\n",
       "    </tr>\n",
       "    <tr>\n",
       "      <th>12042</th>\n",
       "      <td>authorized</td>\n",
       "      <td>1.0</td>\n",
       "      <td>NaN</td>\n",
       "      <td>ACC-1443681913</td>\n",
       "      <td>AUD</td>\n",
       "      <td>150.92 -33.77</td>\n",
       "      <td>SALES-POS</td>\n",
       "      <td>f31f4b14-2040-40ec-a120-b141bb274cbd</td>\n",
       "      <td>NaN</td>\n",
       "      <td>Ryan</td>\n",
       "      <td>...</td>\n",
       "      <td>31</td>\n",
       "      <td>Mascot</td>\n",
       "      <td>NSW</td>\n",
       "      <td>2018-10-31T23:59:44.000+0000</td>\n",
       "      <td>22.36</td>\n",
       "      <td>6d5218e04e8040b9996850ce11a19426</td>\n",
       "      <td>Australia</td>\n",
       "      <td>CUS-3129499595</td>\n",
       "      <td>151.19 -33.93</td>\n",
       "      <td>debit</td>\n",
       "    </tr>\n",
       "  </tbody>\n",
       "</table>\n",
       "<p>12043 rows × 23 columns</p>\n",
       "</div>"
      ],
      "text/plain": [
       "           status  card_present_flag bpay_biller_code         account  \\\n",
       "0      authorized                1.0              NaN  ACC-1598451071   \n",
       "1      authorized                0.0              NaN  ACC-1598451071   \n",
       "2      authorized                1.0              NaN  ACC-1222300524   \n",
       "3      authorized                1.0              NaN  ACC-1037050564   \n",
       "4      authorized                1.0              NaN  ACC-1598451071   \n",
       "...           ...                ...              ...             ...   \n",
       "12038  authorized                0.0              NaN  ACC-3021093232   \n",
       "12039  authorized                1.0              NaN  ACC-1608363396   \n",
       "12040  authorized                1.0              NaN  ACC-3827517394   \n",
       "12041  authorized                1.0              NaN  ACC-2920611728   \n",
       "12042  authorized                1.0              NaN  ACC-1443681913   \n",
       "\n",
       "      currency       long_lat txn_description  \\\n",
       "0          AUD  153.41 -27.95             POS   \n",
       "1          AUD  153.41 -27.95       SALES-POS   \n",
       "2          AUD  151.23 -33.94             POS   \n",
       "3          AUD  153.10 -27.66       SALES-POS   \n",
       "4          AUD  153.41 -27.95       SALES-POS   \n",
       "...        ...            ...             ...   \n",
       "12038      AUD  149.83 -29.47             POS   \n",
       "12039      AUD  151.22 -33.87       SALES-POS   \n",
       "12040      AUD  151.12 -33.89             POS   \n",
       "12041      AUD  144.96 -37.76       SALES-POS   \n",
       "12042      AUD  150.92 -33.77       SALES-POS   \n",
       "\n",
       "                                merchant_id  merchant_code first_name  ...  \\\n",
       "0      81c48296-73be-44a7-befa-d053f48ce7cd            NaN      Diana  ...   \n",
       "1      830a451c-316e-4a6a-bf25-e37caedca49e            NaN      Diana  ...   \n",
       "2      835c231d-8cdf-4e96-859d-e9d571760cf0            NaN    Michael  ...   \n",
       "3      48514682-c78a-4a88-b0da-2d6302e64673            NaN     Rhonda  ...   \n",
       "4      b4e02c10-0852-4273-b8fd-7b3395e32eb0            NaN      Diana  ...   \n",
       "...                                     ...            ...        ...  ...   \n",
       "12038  32aa73dc-b7c2-4161-b14d-6271b96ce792            NaN    Melissa  ...   \n",
       "12039  296a0500-8552-48ac-ac81-ec37065b568e            NaN     Robert  ...   \n",
       "12040  e5975ab4-08f7-4725-a369-24cc0e35ed6e            NaN      Craig  ...   \n",
       "12041  af49051a-591d-4b08-bd3c-27730b70ed37            NaN      Tyler  ...   \n",
       "12042  f31f4b14-2040-40ec-a120-b141bb274cbd            NaN       Ryan  ...   \n",
       "\n",
       "       age merchant_suburb merchant_state                    extraction  \\\n",
       "0       26         Ashmore            QLD  2018-08-01T01:01:15.000+0000   \n",
       "1       26          Sydney            NSW  2018-08-01T01:13:45.000+0000   \n",
       "2       38          Sydney            NSW  2018-08-01T01:26:15.000+0000   \n",
       "3       40         Buderim            QLD  2018-08-01T01:38:45.000+0000   \n",
       "4       26   Mermaid Beach            QLD  2018-08-01T01:51:15.000+0000   \n",
       "...    ...             ...            ...                           ...   \n",
       "12038   30        Ringwood            VIC  2018-10-31T23:09:06.000+0000   \n",
       "12039   20          Casula            NSW  2018-10-31T23:21:46.000+0000   \n",
       "12040   28      Kings Park            NSW  2018-10-31T23:34:25.000+0000   \n",
       "12041   69        Oakleigh            VIC  2018-10-31T23:47:05.000+0000   \n",
       "12042   31          Mascot            NSW  2018-10-31T23:59:44.000+0000   \n",
       "\n",
       "      amount                    transaction_id    country     customer_id  \\\n",
       "0      16.25  a623070bfead4541a6b0fff8a09e706c  Australia  CUS-2487424745   \n",
       "1      14.19  13270a2a902145da9db4c951e04b51b9  Australia  CUS-2487424745   \n",
       "2       6.42  feb79e7ecd7048a5a36ec889d1a94270  Australia  CUS-2142601169   \n",
       "3      40.90  2698170da3704fd981b15e64a006079e  Australia  CUS-1614226872   \n",
       "4       3.25  329adf79878c4cf0aeb4188b4691c266  Australia  CUS-2487424745   \n",
       "...      ...                               ...        ...             ...   \n",
       "12038   9.79  f2e3e695c2ee4c50a4c8747f852cbe2e  Australia    CUS-55310383   \n",
       "12039  63.87  56e147e5485f4683b9076fcaaed76640  Australia  CUS-2688605418   \n",
       "12040  43.96  2fdd4681827343f6af2e6519644a684a  Australia  CUS-2663907001   \n",
       "12041  30.77  74aa9cd7e4af4c6d9cd7dbd28e9aedc9  Australia  CUS-1388323263   \n",
       "12042  22.36  6d5218e04e8040b9996850ce11a19426  Australia  CUS-3129499595   \n",
       "\n",
       "      merchant_long_lat movement  \n",
       "0         153.38 -27.99    debit  \n",
       "1         151.21 -33.87    debit  \n",
       "2         151.21 -33.87    debit  \n",
       "3         153.05 -26.68    debit  \n",
       "4         153.44 -28.06    debit  \n",
       "...                 ...      ...  \n",
       "12038     145.23 -37.81    debit  \n",
       "12039     150.88 -33.96    debit  \n",
       "12040     150.92 -33.74    debit  \n",
       "12041     145.09 -37.91    debit  \n",
       "12042     151.19 -33.93    debit  \n",
       "\n",
       "[12043 rows x 23 columns]"
      ]
     },
     "execution_count": 3,
     "metadata": {},
     "output_type": "execute_result"
    }
   ],
   "source": [
    "df"
   ]
  },
  {
   "cell_type": "code",
   "execution_count": 4,
   "id": "7e214ebd",
   "metadata": {},
   "outputs": [
    {
     "data": {
      "text/plain": [
       "(12043, 23)"
      ]
     },
     "execution_count": 4,
     "metadata": {},
     "output_type": "execute_result"
    }
   ],
   "source": [
    "df.shape"
   ]
  },
  {
   "cell_type": "code",
   "execution_count": 5,
   "id": "5665326b",
   "metadata": {},
   "outputs": [],
   "source": [
    "df['extraction']=pd.to_datetime(df['extraction'])\n",
    "df['time'] = df['extraction'].dt.time"
   ]
  },
  {
   "cell_type": "code",
   "execution_count": 6,
   "id": "498d5600",
   "metadata": {},
   "outputs": [],
   "source": [
    "df['extraction']=pd.to_datetime(df['extraction'])\n",
    "df['day_name'] = df['date'].dt.day_name()"
   ]
  },
  {
   "cell_type": "code",
   "execution_count": 7,
   "id": "ef8842ef",
   "metadata": {},
   "outputs": [],
   "source": [
    "df['dayofweek'] = df['date'].dt.dayofweek"
   ]
  },
  {
   "cell_type": "code",
   "execution_count": 8,
   "id": "9ae40913",
   "metadata": {},
   "outputs": [
    {
     "data": {
      "image/png": "[encoded data removed]",
      "text/plain": [
       "<Figure size 432x288 with 1 Axes>"
      ]
     },
     "metadata": {
      "needs_background": "light"
     },
     "output_type": "display_data"
    }
   ],
   "source": [
    "df.groupby('date').size().plot()\n",
    "plt.ylabel('Number of transactions')\n",
    "plt.title('Number of transactions')\n",
    "plt.show()"
   ]
  },
  {
   "cell_type": "code",
   "execution_count": 68,
   "id": "3321d259",
   "metadata": {},
   "outputs": [
    {
     "data": {
      "text/html": [
       "<div>\n",
       "<style scoped>\n",
       "    .dataframe tbody tr th:only-of-type {\n",
       "        vertical-align: middle;\n",
       "    }\n",
       "\n",
       "    .dataframe tbody tr th {\n",
       "        vertical-align: top;\n",
       "    }\n",
       "\n",
       "    .dataframe thead th {\n",
       "        text-align: right;\n",
       "    }\n",
       "</style>\n",
       "<table border=\"1\" class=\"dataframe\">\n",
       "  <thead>\n",
       "    <tr style=\"text-align: right;\">\n",
       "      <th></th>\n",
       "      <th>status</th>\n",
       "      <th>card_present_flag</th>\n",
       "      <th>bpay_biller_code</th>\n",
       "      <th>account</th>\n",
       "      <th>currency</th>\n",
       "      <th>long_lat</th>\n",
       "      <th>txn_description</th>\n",
       "      <th>merchant_id</th>\n",
       "      <th>merchant_code</th>\n",
       "      <th>first_name</th>\n",
       "      <th>...</th>\n",
       "      <th>merchant_state</th>\n",
       "      <th>extraction</th>\n",
       "      <th>amount</th>\n",
       "      <th>transaction_id</th>\n",
       "      <th>country</th>\n",
       "      <th>customer_id</th>\n",
       "      <th>merchant_long_lat</th>\n",
       "      <th>movement</th>\n",
       "      <th>day_name</th>\n",
       "      <th>time</th>\n",
       "    </tr>\n",
       "  </thead>\n",
       "  <tbody>\n",
       "    <tr>\n",
       "      <th>0</th>\n",
       "      <td>authorized</td>\n",
       "      <td>1.0</td>\n",
       "      <td>NaN</td>\n",
       "      <td>ACC-1598451071</td>\n",
       "      <td>AUD</td>\n",
       "      <td>153.41 -27.95</td>\n",
       "      <td>POS</td>\n",
       "      <td>81c48296-73be-44a7-befa-d053f48ce7cd</td>\n",
       "      <td>NaN</td>\n",
       "      <td>Diana</td>\n",
       "      <td>...</td>\n",
       "      <td>QLD</td>\n",
       "      <td>2018-08-01 01:01:15+00:00</td>\n",
       "      <td>16.25</td>\n",
       "      <td>a623070bfead4541a6b0fff8a09e706c</td>\n",
       "      <td>Australia</td>\n",
       "      <td>CUS-2487424745</td>\n",
       "      <td>153.38 -27.99</td>\n",
       "      <td>debit</td>\n",
       "      <td>Wednesday</td>\n",
       "      <td>01:01:15</td>\n",
       "    </tr>\n",
       "    <tr>\n",
       "      <th>1</th>\n",
       "      <td>authorized</td>\n",
       "      <td>0.0</td>\n",
       "      <td>NaN</td>\n",
       "      <td>ACC-1598451071</td>\n",
       "      <td>AUD</td>\n",
       "      <td>153.41 -27.95</td>\n",
       "      <td>SALES-POS</td>\n",
       "      <td>830a451c-316e-4a6a-bf25-e37caedca49e</td>\n",
       "      <td>NaN</td>\n",
       "      <td>Diana</td>\n",
       "      <td>...</td>\n",
       "      <td>NSW</td>\n",
       "      <td>2018-08-01 01:13:45+00:00</td>\n",
       "      <td>14.19</td>\n",
       "      <td>13270a2a902145da9db4c951e04b51b9</td>\n",
       "      <td>Australia</td>\n",
       "      <td>CUS-2487424745</td>\n",
       "      <td>151.21 -33.87</td>\n",
       "      <td>debit</td>\n",
       "      <td>Wednesday</td>\n",
       "      <td>01:13:45</td>\n",
       "    </tr>\n",
       "    <tr>\n",
       "      <th>2</th>\n",
       "      <td>authorized</td>\n",
       "      <td>1.0</td>\n",
       "      <td>NaN</td>\n",
       "      <td>ACC-1222300524</td>\n",
       "      <td>AUD</td>\n",
       "      <td>151.23 -33.94</td>\n",
       "      <td>POS</td>\n",
       "      <td>835c231d-8cdf-4e96-859d-e9d571760cf0</td>\n",
       "      <td>NaN</td>\n",
       "      <td>Michael</td>\n",
       "      <td>...</td>\n",
       "      <td>NSW</td>\n",
       "      <td>2018-08-01 01:26:15+00:00</td>\n",
       "      <td>6.42</td>\n",
       "      <td>feb79e7ecd7048a5a36ec889d1a94270</td>\n",
       "      <td>Australia</td>\n",
       "      <td>CUS-2142601169</td>\n",
       "      <td>151.21 -33.87</td>\n",
       "      <td>debit</td>\n",
       "      <td>Wednesday</td>\n",
       "      <td>01:26:15</td>\n",
       "    </tr>\n",
       "    <tr>\n",
       "      <th>3</th>\n",
       "      <td>authorized</td>\n",
       "      <td>1.0</td>\n",
       "      <td>NaN</td>\n",
       "      <td>ACC-1037050564</td>\n",
       "      <td>AUD</td>\n",
       "      <td>153.10 -27.66</td>\n",
       "      <td>SALES-POS</td>\n",
       "      <td>48514682-c78a-4a88-b0da-2d6302e64673</td>\n",
       "      <td>NaN</td>\n",
       "      <td>Rhonda</td>\n",
       "      <td>...</td>\n",
       "      <td>QLD</td>\n",
       "      <td>2018-08-01 01:38:45+00:00</td>\n",
       "      <td>40.90</td>\n",
       "      <td>2698170da3704fd981b15e64a006079e</td>\n",
       "      <td>Australia</td>\n",
       "      <td>CUS-1614226872</td>\n",
       "      <td>153.05 -26.68</td>\n",
       "      <td>debit</td>\n",
       "      <td>Wednesday</td>\n",
       "      <td>01:38:45</td>\n",
       "    </tr>\n",
       "    <tr>\n",
       "      <th>4</th>\n",
       "      <td>authorized</td>\n",
       "      <td>1.0</td>\n",
       "      <td>NaN</td>\n",
       "      <td>ACC-1598451071</td>\n",
       "      <td>AUD</td>\n",
       "      <td>153.41 -27.95</td>\n",
       "      <td>SALES-POS</td>\n",
       "      <td>b4e02c10-0852-4273-b8fd-7b3395e32eb0</td>\n",
       "      <td>NaN</td>\n",
       "      <td>Diana</td>\n",
       "      <td>...</td>\n",
       "      <td>QLD</td>\n",
       "      <td>2018-08-01 01:51:15+00:00</td>\n",
       "      <td>3.25</td>\n",
       "      <td>329adf79878c4cf0aeb4188b4691c266</td>\n",
       "      <td>Australia</td>\n",
       "      <td>CUS-2487424745</td>\n",
       "      <td>153.44 -28.06</td>\n",
       "      <td>debit</td>\n",
       "      <td>Wednesday</td>\n",
       "      <td>01:51:15</td>\n",
       "    </tr>\n",
       "    <tr>\n",
       "      <th>...</th>\n",
       "      <td>...</td>\n",
       "      <td>...</td>\n",
       "      <td>...</td>\n",
       "      <td>...</td>\n",
       "      <td>...</td>\n",
       "      <td>...</td>\n",
       "      <td>...</td>\n",
       "      <td>...</td>\n",
       "      <td>...</td>\n",
       "      <td>...</td>\n",
       "      <td>...</td>\n",
       "      <td>...</td>\n",
       "      <td>...</td>\n",
       "      <td>...</td>\n",
       "      <td>...</td>\n",
       "      <td>...</td>\n",
       "      <td>...</td>\n",
       "      <td>...</td>\n",
       "      <td>...</td>\n",
       "      <td>...</td>\n",
       "      <td>...</td>\n",
       "    </tr>\n",
       "    <tr>\n",
       "      <th>12038</th>\n",
       "      <td>authorized</td>\n",
       "      <td>0.0</td>\n",
       "      <td>NaN</td>\n",
       "      <td>ACC-3021093232</td>\n",
       "      <td>AUD</td>\n",
       "      <td>149.83 -29.47</td>\n",
       "      <td>POS</td>\n",
       "      <td>32aa73dc-b7c2-4161-b14d-6271b96ce792</td>\n",
       "      <td>NaN</td>\n",
       "      <td>Melissa</td>\n",
       "      <td>...</td>\n",
       "      <td>VIC</td>\n",
       "      <td>2018-10-31 23:09:06+00:00</td>\n",
       "      <td>9.79</td>\n",
       "      <td>f2e3e695c2ee4c50a4c8747f852cbe2e</td>\n",
       "      <td>Australia</td>\n",
       "      <td>CUS-55310383</td>\n",
       "      <td>145.23 -37.81</td>\n",
       "      <td>debit</td>\n",
       "      <td>Wednesday</td>\n",
       "      <td>23:09:06</td>\n",
       "    </tr>\n",
       "    <tr>\n",
       "      <th>12039</th>\n",
       "      <td>authorized</td>\n",
       "      <td>1.0</td>\n",
       "      <td>NaN</td>\n",
       "      <td>ACC-1608363396</td>\n",
       "      <td>AUD</td>\n",
       "      <td>151.22 -33.87</td>\n",
       "      <td>SALES-POS</td>\n",
       "      <td>296a0500-8552-48ac-ac81-ec37065b568e</td>\n",
       "      <td>NaN</td>\n",
       "      <td>Robert</td>\n",
       "      <td>...</td>\n",
       "      <td>NSW</td>\n",
       "      <td>2018-10-31 23:21:46+00:00</td>\n",
       "      <td>63.87</td>\n",
       "      <td>56e147e5485f4683b9076fcaaed76640</td>\n",
       "      <td>Australia</td>\n",
       "      <td>CUS-2688605418</td>\n",
       "      <td>150.88 -33.96</td>\n",
       "      <td>debit</td>\n",
       "      <td>Wednesday</td>\n",
       "      <td>23:21:46</td>\n",
       "    </tr>\n",
       "    <tr>\n",
       "      <th>12040</th>\n",
       "      <td>authorized</td>\n",
       "      <td>1.0</td>\n",
       "      <td>NaN</td>\n",
       "      <td>ACC-3827517394</td>\n",
       "      <td>AUD</td>\n",
       "      <td>151.12 -33.89</td>\n",
       "      <td>POS</td>\n",
       "      <td>e5975ab4-08f7-4725-a369-24cc0e35ed6e</td>\n",
       "      <td>NaN</td>\n",
       "      <td>Craig</td>\n",
       "      <td>...</td>\n",
       "      <td>NSW</td>\n",
       "      <td>2018-10-31 23:34:25+00:00</td>\n",
       "      <td>43.96</td>\n",
       "      <td>2fdd4681827343f6af2e6519644a684a</td>\n",
       "      <td>Australia</td>\n",
       "      <td>CUS-2663907001</td>\n",
       "      <td>150.92 -33.74</td>\n",
       "      <td>debit</td>\n",
       "      <td>Wednesday</td>\n",
       "      <td>23:34:25</td>\n",
       "    </tr>\n",
       "    <tr>\n",
       "      <th>12041</th>\n",
       "      <td>authorized</td>\n",
       "      <td>1.0</td>\n",
       "      <td>NaN</td>\n",
       "      <td>ACC-2920611728</td>\n",
       "      <td>AUD</td>\n",
       "      <td>144.96 -37.76</td>\n",
       "      <td>SALES-POS</td>\n",
       "      <td>af49051a-591d-4b08-bd3c-27730b70ed37</td>\n",
       "      <td>NaN</td>\n",
       "      <td>Tyler</td>\n",
       "      <td>...</td>\n",
       "      <td>VIC</td>\n",
       "      <td>2018-10-31 23:47:05+00:00</td>\n",
       "      <td>30.77</td>\n",
       "      <td>74aa9cd7e4af4c6d9cd7dbd28e9aedc9</td>\n",
       "      <td>Australia</td>\n",
       "      <td>CUS-1388323263</td>\n",
       "      <td>145.09 -37.91</td>\n",
       "      <td>debit</td>\n",
       "      <td>Wednesday</td>\n",
       "      <td>23:47:05</td>\n",
       "    </tr>\n",
       "    <tr>\n",
       "      <th>12042</th>\n",
       "      <td>authorized</td>\n",
       "      <td>1.0</td>\n",
       "      <td>NaN</td>\n",
       "      <td>ACC-1443681913</td>\n",
       "      <td>AUD</td>\n",
       "      <td>150.92 -33.77</td>\n",
       "      <td>SALES-POS</td>\n",
       "      <td>f31f4b14-2040-40ec-a120-b141bb274cbd</td>\n",
       "      <td>NaN</td>\n",
       "      <td>Ryan</td>\n",
       "      <td>...</td>\n",
       "      <td>NSW</td>\n",
       "      <td>2018-10-31 23:59:44+00:00</td>\n",
       "      <td>22.36</td>\n",
       "      <td>6d5218e04e8040b9996850ce11a19426</td>\n",
       "      <td>Australia</td>\n",
       "      <td>CUS-3129499595</td>\n",
       "      <td>151.19 -33.93</td>\n",
       "      <td>debit</td>\n",
       "      <td>Wednesday</td>\n",
       "      <td>23:59:44</td>\n",
       "    </tr>\n",
       "  </tbody>\n",
       "</table>\n",
       "<p>12043 rows × 25 columns</p>\n",
       "</div>"
      ],
      "text/plain": [
       "           status  card_present_flag bpay_biller_code         account  \\\n",
       "0      authorized                1.0              NaN  ACC-1598451071   \n",
       "1      authorized                0.0              NaN  ACC-1598451071   \n",
       "2      authorized                1.0              NaN  ACC-1222300524   \n",
       "3      authorized                1.0              NaN  ACC-1037050564   \n",
       "4      authorized                1.0              NaN  ACC-1598451071   \n",
       "...           ...                ...              ...             ...   \n",
       "12038  authorized                0.0              NaN  ACC-3021093232   \n",
       "12039  authorized                1.0              NaN  ACC-1608363396   \n",
       "12040  authorized                1.0              NaN  ACC-3827517394   \n",
       "12041  authorized                1.0              NaN  ACC-2920611728   \n",
       "12042  authorized                1.0              NaN  ACC-1443681913   \n",
       "\n",
       "      currency       long_lat txn_description  \\\n",
       "0          AUD  153.41 -27.95             POS   \n",
       "1          AUD  153.41 -27.95       SALES-POS   \n",
       "2          AUD  151.23 -33.94             POS   \n",
       "3          AUD  153.10 -27.66       SALES-POS   \n",
       "4          AUD  153.41 -27.95       SALES-POS   \n",
       "...        ...            ...             ...   \n",
       "12038      AUD  149.83 -29.47             POS   \n",
       "12039      AUD  151.22 -33.87       SALES-POS   \n",
       "12040      AUD  151.12 -33.89             POS   \n",
       "12041      AUD  144.96 -37.76       SALES-POS   \n",
       "12042      AUD  150.92 -33.77       SALES-POS   \n",
       "\n",
       "                                merchant_id  merchant_code first_name  ...  \\\n",
       "0      81c48296-73be-44a7-befa-d053f48ce7cd            NaN      Diana  ...   \n",
       "1      830a451c-316e-4a6a-bf25-e37caedca49e            NaN      Diana  ...   \n",
       "2      835c231d-8cdf-4e96-859d-e9d571760cf0            NaN    Michael  ...   \n",
       "3      48514682-c78a-4a88-b0da-2d6302e64673            NaN     Rhonda  ...   \n",
       "4      b4e02c10-0852-4273-b8fd-7b3395e32eb0            NaN      Diana  ...   \n",
       "...                                     ...            ...        ...  ...   \n",
       "12038  32aa73dc-b7c2-4161-b14d-6271b96ce792            NaN    Melissa  ...   \n",
       "12039  296a0500-8552-48ac-ac81-ec37065b568e            NaN     Robert  ...   \n",
       "12040  e5975ab4-08f7-4725-a369-24cc0e35ed6e            NaN      Craig  ...   \n",
       "12041  af49051a-591d-4b08-bd3c-27730b70ed37            NaN      Tyler  ...   \n",
       "12042  f31f4b14-2040-40ec-a120-b141bb274cbd            NaN       Ryan  ...   \n",
       "\n",
       "       merchant_state                extraction amount  \\\n",
       "0                 QLD 2018-08-01 01:01:15+00:00  16.25   \n",
       "1                 NSW 2018-08-01 01:13:45+00:00  14.19   \n",
       "2                 NSW 2018-08-01 01:26:15+00:00   6.42   \n",
       "3                 QLD 2018-08-01 01:38:45+00:00  40.90   \n",
       "4                 QLD 2018-08-01 01:51:15+00:00   3.25   \n",
       "...               ...                       ...    ...   \n",
       "12038             VIC 2018-10-31 23:09:06+00:00   9.79   \n",
       "12039             NSW 2018-10-31 23:21:46+00:00  63.87   \n",
       "12040             NSW 2018-10-31 23:34:25+00:00  43.96   \n",
       "12041             VIC 2018-10-31 23:47:05+00:00  30.77   \n",
       "12042             NSW 2018-10-31 23:59:44+00:00  22.36   \n",
       "\n",
       "                         transaction_id    country     customer_id  \\\n",
       "0      a623070bfead4541a6b0fff8a09e706c  Australia  CUS-2487424745   \n",
       "1      13270a2a902145da9db4c951e04b51b9  Australia  CUS-2487424745   \n",
       "2      feb79e7ecd7048a5a36ec889d1a94270  Australia  CUS-2142601169   \n",
       "3      2698170da3704fd981b15e64a006079e  Australia  CUS-1614226872   \n",
       "4      329adf79878c4cf0aeb4188b4691c266  Australia  CUS-2487424745   \n",
       "...                                 ...        ...             ...   \n",
       "12038  f2e3e695c2ee4c50a4c8747f852cbe2e  Australia    CUS-55310383   \n",
       "12039  56e147e5485f4683b9076fcaaed76640  Australia  CUS-2688605418   \n",
       "12040  2fdd4681827343f6af2e6519644a684a  Australia  CUS-2663907001   \n",
       "12041  74aa9cd7e4af4c6d9cd7dbd28e9aedc9  Australia  CUS-1388323263   \n",
       "12042  6d5218e04e8040b9996850ce11a19426  Australia  CUS-3129499595   \n",
       "\n",
       "      merchant_long_lat  movement   day_name      time  \n",
       "0         153.38 -27.99     debit  Wednesday  01:01:15  \n",
       "1         151.21 -33.87     debit  Wednesday  01:13:45  \n",
       "2         151.21 -33.87     debit  Wednesday  01:26:15  \n",
       "3         153.05 -26.68     debit  Wednesday  01:38:45  \n",
       "4         153.44 -28.06     debit  Wednesday  01:51:15  \n",
       "...                 ...       ...        ...       ...  \n",
       "12038     145.23 -37.81     debit  Wednesday  23:09:06  \n",
       "12039     150.88 -33.96     debit  Wednesday  23:21:46  \n",
       "12040     150.92 -33.74     debit  Wednesday  23:34:25  \n",
       "12041     145.09 -37.91     debit  Wednesday  23:47:05  \n",
       "12042     151.19 -33.93     debit  Wednesday  23:59:44  \n",
       "\n",
       "[12043 rows x 25 columns]"
      ]
     },
     "execution_count": 68,
     "metadata": {},
     "output_type": "execute_result"
    }
   ],
   "source": [
    "df"
   ]
  },
  {
   "cell_type": "code",
   "execution_count": 9,
   "id": "452f7e17",
   "metadata": {},
   "outputs": [
    {
     "name": "stdout",
     "output_type": "stream",
     "text": [
      "Index(['status', 'card_present_flag', 'bpay_biller_code', 'account',\n",
      "       'currency', 'long_lat', 'txn_description', 'merchant_id',\n",
      "       'merchant_code', 'first_name', 'balance', 'date', 'gender', 'age',\n",
      "       'merchant_suburb', 'merchant_state', 'extraction', 'amount',\n",
      "       'transaction_id', 'country', 'customer_id', 'merchant_long_lat',\n",
      "       'movement', 'time', 'day_name', 'dayofweek'],\n",
      "      dtype='object')\n"
     ]
    }
   ],
   "source": [
    "print(df.columns)"
   ]
  },
  {
   "cell_type": "code",
   "execution_count": 10,
   "id": "716ebdd0",
   "metadata": {},
   "outputs": [
    {
     "data": {
      "image/png": "[encoded data removed]",
      "text/plain": [
       "<Figure size 432x288 with 1 Axes>"
      ]
     },
     "metadata": {
      "needs_background": "light"
     },
     "output_type": "display_data"
    }
   ],
   "source": [
    "df.groupby('dayofweek').size().plot()\n",
    "plt.xticks(range(7), ['Mon','Tue','Wed','Thu','Fri','Sat','Sun'])\n",
    "plt.ylabel('Number of Transactions')\n",
    "plt.title('Numbers of Transactions throughout the week')\n",
    "plt.show()"
   ]
  },
  {
   "cell_type": "code",
   "execution_count": 11,
   "id": "39378002",
   "metadata": {},
   "outputs": [
    {
     "data": {
      "image/png": "[encoded data removed]",
      "text/plain": [
       "<Figure size 432x288 with 1 Axes>"
      ]
     },
     "metadata": {
      "needs_background": "light"
     },
     "output_type": "display_data"
    }
   ],
   "source": [
    "df.groupby('dayofweek').sum()['amount'].plot()\n",
    "plt.xticks(range(7), ['Mon','Tue','Wed','Thu','Fri','Sat','Sun'])\n",
    "plt.ylabel('Total amount')\n",
    "plt.title('Total amount throughout the week')\n",
    "plt.show()"
   ]
  },
  {
   "cell_type": "code",
   "execution_count": 12,
   "id": "4455a26f",
   "metadata": {},
   "outputs": [
    {
     "data": {
      "text/html": [
       "<div>\n",
       "<style scoped>\n",
       "    .dataframe tbody tr th:only-of-type {\n",
       "        vertical-align: middle;\n",
       "    }\n",
       "\n",
       "    .dataframe tbody tr th {\n",
       "        vertical-align: top;\n",
       "    }\n",
       "\n",
       "    .dataframe thead th {\n",
       "        text-align: right;\n",
       "    }\n",
       "</style>\n",
       "<table border=\"1\" class=\"dataframe\">\n",
       "  <thead>\n",
       "    <tr style=\"text-align: right;\">\n",
       "      <th></th>\n",
       "      <th>count</th>\n",
       "      <th>mean</th>\n",
       "      <th>std</th>\n",
       "      <th>min</th>\n",
       "      <th>25%</th>\n",
       "      <th>50%</th>\n",
       "      <th>75%</th>\n",
       "      <th>max</th>\n",
       "    </tr>\n",
       "    <tr>\n",
       "      <th>dayofweek</th>\n",
       "      <th></th>\n",
       "      <th></th>\n",
       "      <th></th>\n",
       "      <th></th>\n",
       "      <th></th>\n",
       "      <th></th>\n",
       "      <th></th>\n",
       "      <th></th>\n",
       "    </tr>\n",
       "  </thead>\n",
       "  <tbody>\n",
       "    <tr>\n",
       "      <th>0</th>\n",
       "      <td>1360.0</td>\n",
       "      <td>373.221000</td>\n",
       "      <td>906.663333</td>\n",
       "      <td>2.10</td>\n",
       "      <td>17.6350</td>\n",
       "      <td>35.00</td>\n",
       "      <td>94.52</td>\n",
       "      <td>8835.98</td>\n",
       "    </tr>\n",
       "    <tr>\n",
       "      <th>1</th>\n",
       "      <td>1487.0</td>\n",
       "      <td>221.576456</td>\n",
       "      <td>593.041926</td>\n",
       "      <td>1.52</td>\n",
       "      <td>17.0000</td>\n",
       "      <td>29.45</td>\n",
       "      <td>71.00</td>\n",
       "      <td>6024.49</td>\n",
       "    </tr>\n",
       "    <tr>\n",
       "      <th>2</th>\n",
       "      <td>2063.0</td>\n",
       "      <td>195.215570</td>\n",
       "      <td>577.430718</td>\n",
       "      <td>0.10</td>\n",
       "      <td>17.0900</td>\n",
       "      <td>31.23</td>\n",
       "      <td>55.00</td>\n",
       "      <td>6107.23</td>\n",
       "    </tr>\n",
       "    <tr>\n",
       "      <th>3</th>\n",
       "      <td>1801.0</td>\n",
       "      <td>184.010422</td>\n",
       "      <td>560.121315</td>\n",
       "      <td>0.10</td>\n",
       "      <td>15.8600</td>\n",
       "      <td>30.86</td>\n",
       "      <td>52.00</td>\n",
       "      <td>8835.98</td>\n",
       "    </tr>\n",
       "    <tr>\n",
       "      <th>4</th>\n",
       "      <td>2073.0</td>\n",
       "      <td>249.353517</td>\n",
       "      <td>729.815041</td>\n",
       "      <td>2.08</td>\n",
       "      <td>15.7300</td>\n",
       "      <td>29.00</td>\n",
       "      <td>62.52</td>\n",
       "      <td>8835.98</td>\n",
       "    </tr>\n",
       "    <tr>\n",
       "      <th>5</th>\n",
       "      <td>1709.0</td>\n",
       "      <td>54.419286</td>\n",
       "      <td>168.561607</td>\n",
       "      <td>0.10</td>\n",
       "      <td>14.7800</td>\n",
       "      <td>24.88</td>\n",
       "      <td>43.61</td>\n",
       "      <td>4233.00</td>\n",
       "    </tr>\n",
       "    <tr>\n",
       "      <th>6</th>\n",
       "      <td>1550.0</td>\n",
       "      <td>53.015845</td>\n",
       "      <td>212.082673</td>\n",
       "      <td>2.63</td>\n",
       "      <td>15.1125</td>\n",
       "      <td>25.39</td>\n",
       "      <td>42.00</td>\n",
       "      <td>7081.09</td>\n",
       "    </tr>\n",
       "  </tbody>\n",
       "</table>\n",
       "</div>"
      ],
      "text/plain": [
       "            count        mean         std   min      25%    50%    75%  \\\n",
       "dayofweek                                                                \n",
       "0          1360.0  373.221000  906.663333  2.10  17.6350  35.00  94.52   \n",
       "1          1487.0  221.576456  593.041926  1.52  17.0000  29.45  71.00   \n",
       "2          2063.0  195.215570  577.430718  0.10  17.0900  31.23  55.00   \n",
       "3          1801.0  184.010422  560.121315  0.10  15.8600  30.86  52.00   \n",
       "4          2073.0  249.353517  729.815041  2.08  15.7300  29.00  62.52   \n",
       "5          1709.0   54.419286  168.561607  0.10  14.7800  24.88  43.61   \n",
       "6          1550.0   53.015845  212.082673  2.63  15.1125  25.39  42.00   \n",
       "\n",
       "               max  \n",
       "dayofweek           \n",
       "0          8835.98  \n",
       "1          6024.49  \n",
       "2          6107.23  \n",
       "3          8835.98  \n",
       "4          8835.98  \n",
       "5          4233.00  \n",
       "6          7081.09  "
      ]
     },
     "execution_count": 12,
     "metadata": {},
     "output_type": "execute_result"
    }
   ],
   "source": [
    "df.groupby('dayofweek').describe()['amount']"
   ]
  },
  {
   "cell_type": "code",
   "execution_count": 13,
   "id": "9224044f",
   "metadata": {},
   "outputs": [],
   "source": [
    "df['hour'] = df['extraction'].dt.hour"
   ]
  },
  {
   "cell_type": "code",
   "execution_count": 14,
   "id": "4c793f12",
   "metadata": {},
   "outputs": [
    {
     "data": {
      "image/png": "[encoded data removed]",
      "text/plain": [
       "<Figure size 432x288 with 1 Axes>"
      ]
     },
     "metadata": {
      "needs_background": "light"
     },
     "output_type": "display_data"
    }
   ],
   "source": [
    "df.groupby('hour').size().plot(kind='bar')\n",
    "plt.ylabel('Number of Transactions')\n",
    "plt.title('Numbers of Transactions throughout the day')\n",
    "plt.show()"
   ]
  },
  {
   "cell_type": "code",
   "execution_count": 15,
   "id": "18f0fa17",
   "metadata": {},
   "outputs": [
    {
     "data": {
      "image/png": "[encoded data removed]",
      "text/plain": [
       "<Figure size 432x288 with 1 Axes>"
      ]
     },
     "metadata": {
      "needs_background": "light"
     },
     "output_type": "display_data"
    }
   ],
   "source": [
    "df.groupby('hour').sum().amount.plot(kind='bar')\n",
    "plt.ylabel('Total amount')\n",
    "plt.title('Total amount throughout the day')\n",
    "plt.show()"
   ]
  },
  {
   "cell_type": "code",
   "execution_count": 16,
   "id": "90e8d21c",
   "metadata": {
    "scrolled": true
   },
   "outputs": [
    {
     "data": {
      "text/plain": [
       "False"
      ]
     },
     "execution_count": 16,
     "metadata": {},
     "output_type": "execute_result"
    }
   ],
   "source": [
    "df['first_name'].isna().all()"
   ]
  },
  {
   "cell_type": "code",
   "execution_count": 17,
   "id": "4ef52ce3",
   "metadata": {},
   "outputs": [
    {
     "data": {
      "image/png": "[encoded data removed]",
      "text/plain": [
       "<Figure size 432x288 with 1 Axes>"
      ]
     },
     "metadata": {},
     "output_type": "display_data"
    }
   ],
   "source": [
    "df.groupby('status').size().plot(kind='pie', autopct='%1.1f%%', ylabel='')\n",
    "plt.title('Transaction status')\n",
    "plt.show()"
   ]
  },
  {
   "cell_type": "code",
   "execution_count": 18,
   "id": "a5b9d385",
   "metadata": {
    "scrolled": true
   },
   "outputs": [
    {
     "data": {
      "image/png": "[encoded data removed]",
      "text/plain": [
       "<Figure size 432x288 with 1 Axes>"
      ]
     },
     "metadata": {},
     "output_type": "display_data"
    }
   ],
   "source": [
    "df.groupby('card_present_flag').size().plot(kind='pie', autopct='%1.1f%%', labels=['No','Yes'], ylabel='')\n",
    "plt.title('Transction with card presented')\n",
    "plt.show()"
   ]
  },
  {
   "cell_type": "code",
   "execution_count": 19,
   "id": "9e8b07d8",
   "metadata": {},
   "outputs": [
    {
     "data": {
      "text/plain": [
       "currency\n",
       "AUD    12043\n",
       "dtype: int64"
      ]
     },
     "execution_count": 19,
     "metadata": {},
     "output_type": "execute_result"
    }
   ],
   "source": [
    "df.groupby('currency').size()"
   ]
  },
  {
   "cell_type": "code",
   "execution_count": 20,
   "id": "3ecdff79",
   "metadata": {},
   "outputs": [
    {
     "data": {
      "text/plain": [
       "bpay_biller_code\n",
       "0                                        883\n",
       " LAND WATER & PLANNING East Melbourne      1\n",
       " THE DISCOUNT CHEMIST GROUP                1\n",
       "dtype: int64"
      ]
     },
     "execution_count": 20,
     "metadata": {},
     "output_type": "execute_result"
    }
   ],
   "source": [
    "df.groupby('bpay_biller_code').size()"
   ]
  },
  {
   "cell_type": "code",
   "execution_count": 21,
   "id": "a1872648",
   "metadata": {},
   "outputs": [
    {
     "data": {
      "text/plain": [
       "187.93358797641784"
      ]
     },
     "execution_count": 21,
     "metadata": {},
     "output_type": "execute_result"
    }
   ],
   "source": [
    "df['amount'].sum()/df.shape[0]"
   ]
  },
  {
   "cell_type": "code",
   "execution_count": 22,
   "id": "8c73e17e",
   "metadata": {},
   "outputs": [
    {
     "data": {
      "text/plain": [
       "movement\n",
       "credit      883\n",
       "debit     11160\n",
       "dtype: int64"
      ]
     },
     "execution_count": 22,
     "metadata": {},
     "output_type": "execute_result"
    }
   ],
   "source": [
    "df.groupby(['movement']).size()"
   ]
  },
  {
   "cell_type": "code",
   "execution_count": 23,
   "id": "5cee8055",
   "metadata": {},
   "outputs": [
    {
     "data": {
      "text/plain": [
       "<AxesSubplot:xlabel='date'>"
      ]
     },
     "execution_count": 23,
     "metadata": {},
     "output_type": "execute_result"
    },
    {
     "data": {
      "image/png": "[encoded data removed]",
      "text/plain": [
       "<Figure size 432x288 with 1 Axes>"
      ]
     },
     "metadata": {
      "needs_background": "light"
     },
     "output_type": "display_data"
    }
   ],
   "source": [
    "df.groupby('date').size().plot()"
   ]
  },
  {
   "cell_type": "code",
   "execution_count": 24,
   "id": "f50a483b",
   "metadata": {},
   "outputs": [
    {
     "data": {
      "text/plain": [
       "(array([1.1176e+04, 4.7200e+02, 2.2100e+02, 7.6000e+01, 8.0000e+01,\n",
       "        9.0000e+00, 4.0000e+00, 0.0000e+00, 1.0000e+00, 4.0000e+00]),\n",
       " array([1.000000e-01, 8.836880e+02, 1.767276e+03, 2.650864e+03,\n",
       "        3.534452e+03, 4.418040e+03, 5.301628e+03, 6.185216e+03,\n",
       "        7.068804e+03, 7.952392e+03, 8.835980e+03]),\n",
       " <BarContainer object of 10 artists>)"
      ]
     },
     "execution_count": 24,
     "metadata": {},
     "output_type": "execute_result"
    },
    {
     "data": {
      "image/png": "[encoded data removed]",
      "text/plain": [
       "<Figure size 432x288 with 1 Axes>"
      ]
     },
     "metadata": {
      "needs_background": "light"
     },
     "output_type": "display_data"
    }
   ],
   "source": [
    "plt.hist(df['amount'])"
   ]
  },
  {
   "cell_type": "code",
   "execution_count": 25,
   "id": "2a3e4575",
   "metadata": {},
   "outputs": [
    {
     "data": {
      "text/plain": [
       "(array([3341., 3131., 1874., 2151., 1128.,  194.,    0.,   88.,  102.,\n",
       "          34.]),\n",
       " array([18., 24., 30., 36., 42., 48., 54., 60., 66., 72., 78.]),\n",
       " <BarContainer object of 10 artists>)"
      ]
     },
     "execution_count": 25,
     "metadata": {},
     "output_type": "execute_result"
    },
    {
     "data": {
      "image/png": "[encoded data removed]",
      "text/plain": [
       "<Figure size 432x288 with 1 Axes>"
      ]
     },
     "metadata": {
      "needs_background": "light"
     },
     "output_type": "display_data"
    }
   ],
   "source": [
    "plt.hist(df['age'])"
   ]
  },
  {
   "cell_type": "code",
   "execution_count": 26,
   "id": "d0153cc9",
   "metadata": {},
   "outputs": [
    {
     "data": {
      "image/png": "[encoded data removed]",
      "text/plain": [
       "<Figure size 432x288 with 1 Axes>"
      ]
     },
     "metadata": {},
     "output_type": "display_data"
    }
   ],
   "source": [
    "df.groupby('merchant_state').size().plot(kind='pie', autopct='%1.1f%%',ylabel='')\n",
    "plt.title('Number of transaction for each state')\n",
    "plt.show()"
   ]
  },
  {
   "cell_type": "code",
   "execution_count": 27,
   "id": "6153287a",
   "metadata": {},
   "outputs": [
    {
     "data": {
      "text/plain": [
       "<AxesSubplot:ylabel='None'>"
      ]
     },
     "execution_count": 27,
     "metadata": {},
     "output_type": "execute_result"
    },
    {
     "data": {
      "image/png": "[encoded data removed]",
      "text/plain": [
       "<Figure size 432x288 with 1 Axes>"
      ]
     },
     "metadata": {},
     "output_type": "display_data"
    }
   ],
   "source": [
    "df.groupby('txn_description').size().plot(kind='pie', autopct='%.2f')"
   ]
  },
  {
   "cell_type": "code",
   "execution_count": 28,
   "id": "8e307e1b",
   "metadata": {},
   "outputs": [
    {
     "data": {
      "image/png": "[encoded data removed]",
      "text/plain": [
       "<Figure size 432x288 with 1 Axes>"
      ]
     },
     "metadata": {
      "needs_background": "light"
     },
     "output_type": "display_data"
    }
   ],
   "source": [
    "boxplot = df.boxplot(column=['amount'])"
   ]
  },
  {
   "cell_type": "code",
   "execution_count": 29,
   "id": "f46af604",
   "metadata": {},
   "outputs": [
    {
     "name": "stdout",
     "output_type": "stream",
     "text": [
      "status\n",
      "card_present_flag\n",
      "bpay_biller_code\n",
      "account\n",
      "currency\n",
      "long_lat\n",
      "txn_description\n",
      "merchant_id\n",
      "merchant_code\n",
      "first_name\n",
      "balance\n",
      "date\n",
      "gender\n",
      "age\n",
      "merchant_suburb\n",
      "merchant_state\n",
      "extraction\n",
      "amount\n",
      "transaction_id\n",
      "country\n",
      "customer_id\n",
      "merchant_long_lat\n",
      "movement\n",
      "time\n",
      "day_name\n",
      "dayofweek\n",
      "hour\n"
     ]
    }
   ],
   "source": [
    "for col in df.columns:\n",
    "    print(col)"
   ]
  },
  {
   "cell_type": "code",
   "execution_count": 30,
   "id": "39a5d797",
   "metadata": {},
   "outputs": [
    {
     "data": {
      "image/png": "[encoded data removed]",
      "text/plain": [
       "<Figure size 345.6x230.4 with 1 Axes>"
      ]
     },
     "metadata": {
      "needs_background": "light"
     },
     "output_type": "display_data"
    }
   ],
   "source": [
    "plt.figure(figsize=(6*0.8,4*0.8))\n",
    "plt.scatter(x=df['age'],y=df['amount'])\n",
    "plt.xlabel('Age')\n",
    "plt.ylabel('Amount')\n",
    "plt.title('Relationship between age and amount spend')\n",
    "plt.show()"
   ]
  },
  {
   "cell_type": "code",
   "execution_count": 31,
   "id": "c5d6b1f0",
   "metadata": {},
   "outputs": [
    {
     "data": {
      "image/png": "[encoded data removed]",
      "text/plain": [
       "<Figure size 432x288 with 1 Axes>"
      ]
     },
     "metadata": {},
     "output_type": "display_data"
    }
   ],
   "source": [
    "df.groupby('merchant_state').sum().amount.plot(kind='pie', autopct='%.2f',ylabel='',legend=False)\n",
    "plt.title('Total amount spend for each state')\n",
    "plt.show()"
   ]
  },
  {
   "cell_type": "code",
   "execution_count": 32,
   "id": "30a48c07",
   "metadata": {},
   "outputs": [
    {
     "data": {
      "image/png": "[encoded data removed]",
      "text/plain": [
       "<Figure size 432x288 with 1 Axes>"
      ]
     },
     "metadata": {},
     "output_type": "display_data"
    }
   ],
   "source": [
    "df.groupby('gender').sum().amount.plot(kind='pie', autopct='%1.1f%%',labels=['Female','Male'],ylabel='')\n",
    "plt.title('Total transaction amount by gender')\n",
    "plt.show()"
   ]
  },
  {
   "cell_type": "code",
   "execution_count": 33,
   "id": "9c25c9b9",
   "metadata": {},
   "outputs": [
    {
     "data": {
      "image/png": "[encoded data removed]",
      "text/plain": [
       "<Figure size 432x288 with 1 Axes>"
      ]
     },
     "metadata": {},
     "output_type": "display_data"
    }
   ],
   "source": [
    "df.groupby('gender').sum().amount.plot(kind='pie', autopct='%1.1f%%',labels=['Female','Male'],ylabel='')\n",
    "plt.title('Total transaction amount by gender')\n",
    "plt.show()"
   ]
  },
  {
   "cell_type": "code",
   "execution_count": 34,
   "id": "ecd3bcc8",
   "metadata": {},
   "outputs": [
    {
     "data": {
      "image/png": "[encoded data removed]",
      "text/plain": [
       "<Figure size 432x288 with 1 Axes>"
      ]
     },
     "metadata": {},
     "output_type": "display_data"
    }
   ],
   "source": [
    "df.groupby('gender').size().plot(kind='pie', autopct='%1.1f%%', labels=['Female','Male'],ylabel='')\n",
    "plt.title('Number of transactions by gender')\n",
    "plt.show()"
   ]
  },
  {
   "cell_type": "code",
   "execution_count": 35,
   "id": "4b4d030f",
   "metadata": {},
   "outputs": [
    {
     "data": {
      "text/plain": [
       "<Figure size 1440x720 with 0 Axes>"
      ]
     },
     "execution_count": 35,
     "metadata": {},
     "output_type": "execute_result"
    },
    {
     "data": {
      "image/png": "[encoded data removed]",
      "text/plain": [
       "<Figure size 3600x3600 with 1 Axes>"
      ]
     },
     "metadata": {
      "needs_background": "light"
     },
     "output_type": "display_data"
    },
    {
     "data": {
      "text/plain": [
       "<Figure size 1440x720 with 0 Axes>"
      ]
     },
     "metadata": {},
     "output_type": "display_data"
    }
   ],
   "source": [
    "df.groupby('date').sum().plot(kind='bar',y='amount',rot=30,figsize=(50, 50))\n",
    "plt.figure(figsize=(20,10))"
   ]
  },
  {
   "cell_type": "code",
   "execution_count": null,
   "id": "99ae50ba",
   "metadata": {},
   "outputs": [],
   "source": []
  },
  {
   "cell_type": "code",
   "execution_count": 112,
   "id": "56180bf0",
   "metadata": {},
   "outputs": [],
   "source": [
    "# task2\n",
    "import pandas as pd\n",
    "import matplotlib.pyplot as plt\n",
    "dfs = pd.read_excel('ANZ synthesised transaction dataset.xlsx', sheet_name=None)\n",
    "df = dfs['DSynth_Output_100c_3m_v3']"
   ]
  },
  {
   "cell_type": "code",
   "execution_count": 113,
   "id": "a15cee73",
   "metadata": {},
   "outputs": [
    {
     "data": {
      "text/html": [
       "<div>\n",
       "<style scoped>\n",
       "    .dataframe tbody tr th:only-of-type {\n",
       "        vertical-align: middle;\n",
       "    }\n",
       "\n",
       "    .dataframe tbody tr th {\n",
       "        vertical-align: top;\n",
       "    }\n",
       "\n",
       "    .dataframe thead th {\n",
       "        text-align: right;\n",
       "    }\n",
       "</style>\n",
       "<table border=\"1\" class=\"dataframe\">\n",
       "  <thead>\n",
       "    <tr style=\"text-align: right;\">\n",
       "      <th></th>\n",
       "      <th>status</th>\n",
       "      <th>card_present_flag</th>\n",
       "      <th>bpay_biller_code</th>\n",
       "      <th>account</th>\n",
       "      <th>currency</th>\n",
       "      <th>long_lat</th>\n",
       "      <th>txn_description</th>\n",
       "      <th>merchant_id</th>\n",
       "      <th>merchant_code</th>\n",
       "      <th>first_name</th>\n",
       "      <th>...</th>\n",
       "      <th>age</th>\n",
       "      <th>merchant_suburb</th>\n",
       "      <th>merchant_state</th>\n",
       "      <th>extraction</th>\n",
       "      <th>amount</th>\n",
       "      <th>transaction_id</th>\n",
       "      <th>country</th>\n",
       "      <th>customer_id</th>\n",
       "      <th>merchant_long_lat</th>\n",
       "      <th>movement</th>\n",
       "    </tr>\n",
       "  </thead>\n",
       "  <tbody>\n",
       "    <tr>\n",
       "      <th>0</th>\n",
       "      <td>authorized</td>\n",
       "      <td>1.0</td>\n",
       "      <td>NaN</td>\n",
       "      <td>ACC-1598451071</td>\n",
       "      <td>AUD</td>\n",
       "      <td>153.41 -27.95</td>\n",
       "      <td>POS</td>\n",
       "      <td>81c48296-73be-44a7-befa-d053f48ce7cd</td>\n",
       "      <td>NaN</td>\n",
       "      <td>Diana</td>\n",
       "      <td>...</td>\n",
       "      <td>26</td>\n",
       "      <td>Ashmore</td>\n",
       "      <td>QLD</td>\n",
       "      <td>2018-08-01T01:01:15.000+0000</td>\n",
       "      <td>16.25</td>\n",
       "      <td>a623070bfead4541a6b0fff8a09e706c</td>\n",
       "      <td>Australia</td>\n",
       "      <td>CUS-2487424745</td>\n",
       "      <td>153.38 -27.99</td>\n",
       "      <td>debit</td>\n",
       "    </tr>\n",
       "    <tr>\n",
       "      <th>1</th>\n",
       "      <td>authorized</td>\n",
       "      <td>0.0</td>\n",
       "      <td>NaN</td>\n",
       "      <td>ACC-1598451071</td>\n",
       "      <td>AUD</td>\n",
       "      <td>153.41 -27.95</td>\n",
       "      <td>SALES-POS</td>\n",
       "      <td>830a451c-316e-4a6a-bf25-e37caedca49e</td>\n",
       "      <td>NaN</td>\n",
       "      <td>Diana</td>\n",
       "      <td>...</td>\n",
       "      <td>26</td>\n",
       "      <td>Sydney</td>\n",
       "      <td>NSW</td>\n",
       "      <td>2018-08-01T01:13:45.000+0000</td>\n",
       "      <td>14.19</td>\n",
       "      <td>13270a2a902145da9db4c951e04b51b9</td>\n",
       "      <td>Australia</td>\n",
       "      <td>CUS-2487424745</td>\n",
       "      <td>151.21 -33.87</td>\n",
       "      <td>debit</td>\n",
       "    </tr>\n",
       "    <tr>\n",
       "      <th>2</th>\n",
       "      <td>authorized</td>\n",
       "      <td>1.0</td>\n",
       "      <td>NaN</td>\n",
       "      <td>ACC-1222300524</td>\n",
       "      <td>AUD</td>\n",
       "      <td>151.23 -33.94</td>\n",
       "      <td>POS</td>\n",
       "      <td>835c231d-8cdf-4e96-859d-e9d571760cf0</td>\n",
       "      <td>NaN</td>\n",
       "      <td>Michael</td>\n",
       "      <td>...</td>\n",
       "      <td>38</td>\n",
       "      <td>Sydney</td>\n",
       "      <td>NSW</td>\n",
       "      <td>2018-08-01T01:26:15.000+0000</td>\n",
       "      <td>6.42</td>\n",
       "      <td>feb79e7ecd7048a5a36ec889d1a94270</td>\n",
       "      <td>Australia</td>\n",
       "      <td>CUS-2142601169</td>\n",
       "      <td>151.21 -33.87</td>\n",
       "      <td>debit</td>\n",
       "    </tr>\n",
       "    <tr>\n",
       "      <th>3</th>\n",
       "      <td>authorized</td>\n",
       "      <td>1.0</td>\n",
       "      <td>NaN</td>\n",
       "      <td>ACC-1037050564</td>\n",
       "      <td>AUD</td>\n",
       "      <td>153.10 -27.66</td>\n",
       "      <td>SALES-POS</td>\n",
       "      <td>48514682-c78a-4a88-b0da-2d6302e64673</td>\n",
       "      <td>NaN</td>\n",
       "      <td>Rhonda</td>\n",
       "      <td>...</td>\n",
       "      <td>40</td>\n",
       "      <td>Buderim</td>\n",
       "      <td>QLD</td>\n",
       "      <td>2018-08-01T01:38:45.000+0000</td>\n",
       "      <td>40.90</td>\n",
       "      <td>2698170da3704fd981b15e64a006079e</td>\n",
       "      <td>Australia</td>\n",
       "      <td>CUS-1614226872</td>\n",
       "      <td>153.05 -26.68</td>\n",
       "      <td>debit</td>\n",
       "    </tr>\n",
       "    <tr>\n",
       "      <th>4</th>\n",
       "      <td>authorized</td>\n",
       "      <td>1.0</td>\n",
       "      <td>NaN</td>\n",
       "      <td>ACC-1598451071</td>\n",
       "      <td>AUD</td>\n",
       "      <td>153.41 -27.95</td>\n",
       "      <td>SALES-POS</td>\n",
       "      <td>b4e02c10-0852-4273-b8fd-7b3395e32eb0</td>\n",
       "      <td>NaN</td>\n",
       "      <td>Diana</td>\n",
       "      <td>...</td>\n",
       "      <td>26</td>\n",
       "      <td>Mermaid Beach</td>\n",
       "      <td>QLD</td>\n",
       "      <td>2018-08-01T01:51:15.000+0000</td>\n",
       "      <td>3.25</td>\n",
       "      <td>329adf79878c4cf0aeb4188b4691c266</td>\n",
       "      <td>Australia</td>\n",
       "      <td>CUS-2487424745</td>\n",
       "      <td>153.44 -28.06</td>\n",
       "      <td>debit</td>\n",
       "    </tr>\n",
       "    <tr>\n",
       "      <th>...</th>\n",
       "      <td>...</td>\n",
       "      <td>...</td>\n",
       "      <td>...</td>\n",
       "      <td>...</td>\n",
       "      <td>...</td>\n",
       "      <td>...</td>\n",
       "      <td>...</td>\n",
       "      <td>...</td>\n",
       "      <td>...</td>\n",
       "      <td>...</td>\n",
       "      <td>...</td>\n",
       "      <td>...</td>\n",
       "      <td>...</td>\n",
       "      <td>...</td>\n",
       "      <td>...</td>\n",
       "      <td>...</td>\n",
       "      <td>...</td>\n",
       "      <td>...</td>\n",
       "      <td>...</td>\n",
       "      <td>...</td>\n",
       "      <td>...</td>\n",
       "    </tr>\n",
       "    <tr>\n",
       "      <th>12038</th>\n",
       "      <td>authorized</td>\n",
       "      <td>0.0</td>\n",
       "      <td>NaN</td>\n",
       "      <td>ACC-3021093232</td>\n",
       "      <td>AUD</td>\n",
       "      <td>149.83 -29.47</td>\n",
       "      <td>POS</td>\n",
       "      <td>32aa73dc-b7c2-4161-b14d-6271b96ce792</td>\n",
       "      <td>NaN</td>\n",
       "      <td>Melissa</td>\n",
       "      <td>...</td>\n",
       "      <td>30</td>\n",
       "      <td>Ringwood</td>\n",
       "      <td>VIC</td>\n",
       "      <td>2018-10-31T23:09:06.000+0000</td>\n",
       "      <td>9.79</td>\n",
       "      <td>f2e3e695c2ee4c50a4c8747f852cbe2e</td>\n",
       "      <td>Australia</td>\n",
       "      <td>CUS-55310383</td>\n",
       "      <td>145.23 -37.81</td>\n",
       "      <td>debit</td>\n",
       "    </tr>\n",
       "    <tr>\n",
       "      <th>12039</th>\n",
       "      <td>authorized</td>\n",
       "      <td>1.0</td>\n",
       "      <td>NaN</td>\n",
       "      <td>ACC-1608363396</td>\n",
       "      <td>AUD</td>\n",
       "      <td>151.22 -33.87</td>\n",
       "      <td>SALES-POS</td>\n",
       "      <td>296a0500-8552-48ac-ac81-ec37065b568e</td>\n",
       "      <td>NaN</td>\n",
       "      <td>Robert</td>\n",
       "      <td>...</td>\n",
       "      <td>20</td>\n",
       "      <td>Casula</td>\n",
       "      <td>NSW</td>\n",
       "      <td>2018-10-31T23:21:46.000+0000</td>\n",
       "      <td>63.87</td>\n",
       "      <td>56e147e5485f4683b9076fcaaed76640</td>\n",
       "      <td>Australia</td>\n",
       "      <td>CUS-2688605418</td>\n",
       "      <td>150.88 -33.96</td>\n",
       "      <td>debit</td>\n",
       "    </tr>\n",
       "    <tr>\n",
       "      <th>12040</th>\n",
       "      <td>authorized</td>\n",
       "      <td>1.0</td>\n",
       "      <td>NaN</td>\n",
       "      <td>ACC-3827517394</td>\n",
       "      <td>AUD</td>\n",
       "      <td>151.12 -33.89</td>\n",
       "      <td>POS</td>\n",
       "      <td>e5975ab4-08f7-4725-a369-24cc0e35ed6e</td>\n",
       "      <td>NaN</td>\n",
       "      <td>Craig</td>\n",
       "      <td>...</td>\n",
       "      <td>28</td>\n",
       "      <td>Kings Park</td>\n",
       "      <td>NSW</td>\n",
       "      <td>2018-10-31T23:34:25.000+0000</td>\n",
       "      <td>43.96</td>\n",
       "      <td>2fdd4681827343f6af2e6519644a684a</td>\n",
       "      <td>Australia</td>\n",
       "      <td>CUS-2663907001</td>\n",
       "      <td>150.92 -33.74</td>\n",
       "      <td>debit</td>\n",
       "    </tr>\n",
       "    <tr>\n",
       "      <th>12041</th>\n",
       "      <td>authorized</td>\n",
       "      <td>1.0</td>\n",
       "      <td>NaN</td>\n",
       "      <td>ACC-2920611728</td>\n",
       "      <td>AUD</td>\n",
       "      <td>144.96 -37.76</td>\n",
       "      <td>SALES-POS</td>\n",
       "      <td>af49051a-591d-4b08-bd3c-27730b70ed37</td>\n",
       "      <td>NaN</td>\n",
       "      <td>Tyler</td>\n",
       "      <td>...</td>\n",
       "      <td>69</td>\n",
       "      <td>Oakleigh</td>\n",
       "      <td>VIC</td>\n",
       "      <td>2018-10-31T23:47:05.000+0000</td>\n",
       "      <td>30.77</td>\n",
       "      <td>74aa9cd7e4af4c6d9cd7dbd28e9aedc9</td>\n",
       "      <td>Australia</td>\n",
       "      <td>CUS-1388323263</td>\n",
       "      <td>145.09 -37.91</td>\n",
       "      <td>debit</td>\n",
       "    </tr>\n",
       "    <tr>\n",
       "      <th>12042</th>\n",
       "      <td>authorized</td>\n",
       "      <td>1.0</td>\n",
       "      <td>NaN</td>\n",
       "      <td>ACC-1443681913</td>\n",
       "      <td>AUD</td>\n",
       "      <td>150.92 -33.77</td>\n",
       "      <td>SALES-POS</td>\n",
       "      <td>f31f4b14-2040-40ec-a120-b141bb274cbd</td>\n",
       "      <td>NaN</td>\n",
       "      <td>Ryan</td>\n",
       "      <td>...</td>\n",
       "      <td>31</td>\n",
       "      <td>Mascot</td>\n",
       "      <td>NSW</td>\n",
       "      <td>2018-10-31T23:59:44.000+0000</td>\n",
       "      <td>22.36</td>\n",
       "      <td>6d5218e04e8040b9996850ce11a19426</td>\n",
       "      <td>Australia</td>\n",
       "      <td>CUS-3129499595</td>\n",
       "      <td>151.19 -33.93</td>\n",
       "      <td>debit</td>\n",
       "    </tr>\n",
       "  </tbody>\n",
       "</table>\n",
       "<p>12043 rows × 23 columns</p>\n",
       "</div>"
      ],
      "text/plain": [
       "           status  card_present_flag bpay_biller_code         account  \\\n",
       "0      authorized                1.0              NaN  ACC-1598451071   \n",
       "1      authorized                0.0              NaN  ACC-1598451071   \n",
       "2      authorized                1.0              NaN  ACC-1222300524   \n",
       "3      authorized                1.0              NaN  ACC-1037050564   \n",
       "4      authorized                1.0              NaN  ACC-1598451071   \n",
       "...           ...                ...              ...             ...   \n",
       "12038  authorized                0.0              NaN  ACC-3021093232   \n",
       "12039  authorized                1.0              NaN  ACC-1608363396   \n",
       "12040  authorized                1.0              NaN  ACC-3827517394   \n",
       "12041  authorized                1.0              NaN  ACC-2920611728   \n",
       "12042  authorized                1.0              NaN  ACC-1443681913   \n",
       "\n",
       "      currency       long_lat txn_description  \\\n",
       "0          AUD  153.41 -27.95             POS   \n",
       "1          AUD  153.41 -27.95       SALES-POS   \n",
       "2          AUD  151.23 -33.94             POS   \n",
       "3          AUD  153.10 -27.66       SALES-POS   \n",
       "4          AUD  153.41 -27.95       SALES-POS   \n",
       "...        ...            ...             ...   \n",
       "12038      AUD  149.83 -29.47             POS   \n",
       "12039      AUD  151.22 -33.87       SALES-POS   \n",
       "12040      AUD  151.12 -33.89             POS   \n",
       "12041      AUD  144.96 -37.76       SALES-POS   \n",
       "12042      AUD  150.92 -33.77       SALES-POS   \n",
       "\n",
       "                                merchant_id  merchant_code first_name  ...  \\\n",
       "0      81c48296-73be-44a7-befa-d053f48ce7cd            NaN      Diana  ...   \n",
       "1      830a451c-316e-4a6a-bf25-e37caedca49e            NaN      Diana  ...   \n",
       "2      835c231d-8cdf-4e96-859d-e9d571760cf0            NaN    Michael  ...   \n",
       "3      48514682-c78a-4a88-b0da-2d6302e64673            NaN     Rhonda  ...   \n",
       "4      b4e02c10-0852-4273-b8fd-7b3395e32eb0            NaN      Diana  ...   \n",
       "...                                     ...            ...        ...  ...   \n",
       "12038  32aa73dc-b7c2-4161-b14d-6271b96ce792            NaN    Melissa  ...   \n",
       "12039  296a0500-8552-48ac-ac81-ec37065b568e            NaN     Robert  ...   \n",
       "12040  e5975ab4-08f7-4725-a369-24cc0e35ed6e            NaN      Craig  ...   \n",
       "12041  af49051a-591d-4b08-bd3c-27730b70ed37            NaN      Tyler  ...   \n",
       "12042  f31f4b14-2040-40ec-a120-b141bb274cbd            NaN       Ryan  ...   \n",
       "\n",
       "       age merchant_suburb merchant_state                    extraction  \\\n",
       "0       26         Ashmore            QLD  2018-08-01T01:01:15.000+0000   \n",
       "1       26          Sydney            NSW  2018-08-01T01:13:45.000+0000   \n",
       "2       38          Sydney            NSW  2018-08-01T01:26:15.000+0000   \n",
       "3       40         Buderim            QLD  2018-08-01T01:38:45.000+0000   \n",
       "4       26   Mermaid Beach            QLD  2018-08-01T01:51:15.000+0000   \n",
       "...    ...             ...            ...                           ...   \n",
       "12038   30        Ringwood            VIC  2018-10-31T23:09:06.000+0000   \n",
       "12039   20          Casula            NSW  2018-10-31T23:21:46.000+0000   \n",
       "12040   28      Kings Park            NSW  2018-10-31T23:34:25.000+0000   \n",
       "12041   69        Oakleigh            VIC  2018-10-31T23:47:05.000+0000   \n",
       "12042   31          Mascot            NSW  2018-10-31T23:59:44.000+0000   \n",
       "\n",
       "      amount                    transaction_id    country     customer_id  \\\n",
       "0      16.25  a623070bfead4541a6b0fff8a09e706c  Australia  CUS-2487424745   \n",
       "1      14.19  13270a2a902145da9db4c951e04b51b9  Australia  CUS-2487424745   \n",
       "2       6.42  feb79e7ecd7048a5a36ec889d1a94270  Australia  CUS-2142601169   \n",
       "3      40.90  2698170da3704fd981b15e64a006079e  Australia  CUS-1614226872   \n",
       "4       3.25  329adf79878c4cf0aeb4188b4691c266  Australia  CUS-2487424745   \n",
       "...      ...                               ...        ...             ...   \n",
       "12038   9.79  f2e3e695c2ee4c50a4c8747f852cbe2e  Australia    CUS-55310383   \n",
       "12039  63.87  56e147e5485f4683b9076fcaaed76640  Australia  CUS-2688605418   \n",
       "12040  43.96  2fdd4681827343f6af2e6519644a684a  Australia  CUS-2663907001   \n",
       "12041  30.77  74aa9cd7e4af4c6d9cd7dbd28e9aedc9  Australia  CUS-1388323263   \n",
       "12042  22.36  6d5218e04e8040b9996850ce11a19426  Australia  CUS-3129499595   \n",
       "\n",
       "      merchant_long_lat movement  \n",
       "0         153.38 -27.99    debit  \n",
       "1         151.21 -33.87    debit  \n",
       "2         151.21 -33.87    debit  \n",
       "3         153.05 -26.68    debit  \n",
       "4         153.44 -28.06    debit  \n",
       "...                 ...      ...  \n",
       "12038     145.23 -37.81    debit  \n",
       "12039     150.88 -33.96    debit  \n",
       "12040     150.92 -33.74    debit  \n",
       "12041     145.09 -37.91    debit  \n",
       "12042     151.19 -33.93    debit  \n",
       "\n",
       "[12043 rows x 23 columns]"
      ]
     },
     "execution_count": 113,
     "metadata": {},
     "output_type": "execute_result"
    }
   ],
   "source": [
    "df.drop_duplicates()\n",
    "df"
   ]
  },
  {
   "cell_type": "code",
   "execution_count": 114,
   "id": "e4cd7aae",
   "metadata": {},
   "outputs": [
    {
     "data": {
      "text/html": [
       "<div>\n",
       "<style scoped>\n",
       "    .dataframe tbody tr th:only-of-type {\n",
       "        vertical-align: middle;\n",
       "    }\n",
       "\n",
       "    .dataframe tbody tr th {\n",
       "        vertical-align: top;\n",
       "    }\n",
       "\n",
       "    .dataframe thead th {\n",
       "        text-align: right;\n",
       "    }\n",
       "</style>\n",
       "<table border=\"1\" class=\"dataframe\">\n",
       "  <thead>\n",
       "    <tr style=\"text-align: right;\">\n",
       "      <th></th>\n",
       "      <th>status</th>\n",
       "      <th>card_present_flag</th>\n",
       "      <th>bpay_biller_code</th>\n",
       "      <th>account</th>\n",
       "      <th>currency</th>\n",
       "      <th>long_lat</th>\n",
       "      <th>txn_description</th>\n",
       "      <th>merchant_id</th>\n",
       "      <th>merchant_code</th>\n",
       "      <th>first_name</th>\n",
       "      <th>...</th>\n",
       "      <th>age</th>\n",
       "      <th>merchant_suburb</th>\n",
       "      <th>merchant_state</th>\n",
       "      <th>extraction</th>\n",
       "      <th>amount</th>\n",
       "      <th>transaction_id</th>\n",
       "      <th>country</th>\n",
       "      <th>customer_id</th>\n",
       "      <th>merchant_long_lat</th>\n",
       "      <th>movement</th>\n",
       "    </tr>\n",
       "  </thead>\n",
       "  <tbody>\n",
       "    <tr>\n",
       "      <th>50</th>\n",
       "      <td>posted</td>\n",
       "      <td>NaN</td>\n",
       "      <td>0</td>\n",
       "      <td>ACC-588564840</td>\n",
       "      <td>AUD</td>\n",
       "      <td>151.27 -33.76</td>\n",
       "      <td>PAY/SALARY</td>\n",
       "      <td>NaN</td>\n",
       "      <td>0.0</td>\n",
       "      <td>Isaiah</td>\n",
       "      <td>...</td>\n",
       "      <td>23</td>\n",
       "      <td>NaN</td>\n",
       "      <td>NaN</td>\n",
       "      <td>2018-08-01T11:00:00.000+0000</td>\n",
       "      <td>3903.95</td>\n",
       "      <td>9ca281650e5d482d9e53f85e959baa66</td>\n",
       "      <td>Australia</td>\n",
       "      <td>CUS-1462656821</td>\n",
       "      <td>NaN</td>\n",
       "      <td>credit</td>\n",
       "    </tr>\n",
       "    <tr>\n",
       "      <th>61</th>\n",
       "      <td>posted</td>\n",
       "      <td>NaN</td>\n",
       "      <td>0</td>\n",
       "      <td>ACC-1650504218</td>\n",
       "      <td>AUD</td>\n",
       "      <td>145.01 -37.93</td>\n",
       "      <td>PAY/SALARY</td>\n",
       "      <td>NaN</td>\n",
       "      <td>0.0</td>\n",
       "      <td>Marissa</td>\n",
       "      <td>...</td>\n",
       "      <td>23</td>\n",
       "      <td>NaN</td>\n",
       "      <td>NaN</td>\n",
       "      <td>2018-08-01T12:00:00.000+0000</td>\n",
       "      <td>1626.48</td>\n",
       "      <td>1822eb0e1bbe4c9e95ebbb0fa2cc4323</td>\n",
       "      <td>Australia</td>\n",
       "      <td>CUS-2500783281</td>\n",
       "      <td>NaN</td>\n",
       "      <td>credit</td>\n",
       "    </tr>\n",
       "    <tr>\n",
       "      <th>64</th>\n",
       "      <td>posted</td>\n",
       "      <td>NaN</td>\n",
       "      <td>0</td>\n",
       "      <td>ACC-3326339947</td>\n",
       "      <td>AUD</td>\n",
       "      <td>151.18 -33.80</td>\n",
       "      <td>PAY/SALARY</td>\n",
       "      <td>NaN</td>\n",
       "      <td>0.0</td>\n",
       "      <td>Eric</td>\n",
       "      <td>...</td>\n",
       "      <td>22</td>\n",
       "      <td>NaN</td>\n",
       "      <td>NaN</td>\n",
       "      <td>2018-08-01T12:00:00.000+0000</td>\n",
       "      <td>983.36</td>\n",
       "      <td>bd62b1799a454cedbbb56364f7c40cbf</td>\n",
       "      <td>Australia</td>\n",
       "      <td>CUS-326006476</td>\n",
       "      <td>NaN</td>\n",
       "      <td>credit</td>\n",
       "    </tr>\n",
       "    <tr>\n",
       "      <th>68</th>\n",
       "      <td>posted</td>\n",
       "      <td>NaN</td>\n",
       "      <td>0</td>\n",
       "      <td>ACC-3541460373</td>\n",
       "      <td>AUD</td>\n",
       "      <td>145.00 -37.83</td>\n",
       "      <td>PAY/SALARY</td>\n",
       "      <td>NaN</td>\n",
       "      <td>0.0</td>\n",
       "      <td>Jeffrey</td>\n",
       "      <td>...</td>\n",
       "      <td>24</td>\n",
       "      <td>NaN</td>\n",
       "      <td>NaN</td>\n",
       "      <td>2018-08-01T13:00:00.000+0000</td>\n",
       "      <td>1408.08</td>\n",
       "      <td>0d95c7c932bb48e5b44c2637bdd3efe9</td>\n",
       "      <td>Australia</td>\n",
       "      <td>CUS-1433879684</td>\n",
       "      <td>NaN</td>\n",
       "      <td>credit</td>\n",
       "    </tr>\n",
       "    <tr>\n",
       "      <th>70</th>\n",
       "      <td>posted</td>\n",
       "      <td>NaN</td>\n",
       "      <td>0</td>\n",
       "      <td>ACC-2776252858</td>\n",
       "      <td>AUD</td>\n",
       "      <td>144.95 -37.76</td>\n",
       "      <td>PAY/SALARY</td>\n",
       "      <td>NaN</td>\n",
       "      <td>0.0</td>\n",
       "      <td>Kristin</td>\n",
       "      <td>...</td>\n",
       "      <td>43</td>\n",
       "      <td>NaN</td>\n",
       "      <td>NaN</td>\n",
       "      <td>2018-08-01T13:00:00.000+0000</td>\n",
       "      <td>1068.04</td>\n",
       "      <td>f50ccf1195214d14a0acbfcb5a265193</td>\n",
       "      <td>Australia</td>\n",
       "      <td>CUS-4123612273</td>\n",
       "      <td>NaN</td>\n",
       "      <td>credit</td>\n",
       "    </tr>\n",
       "    <tr>\n",
       "      <th>...</th>\n",
       "      <td>...</td>\n",
       "      <td>...</td>\n",
       "      <td>...</td>\n",
       "      <td>...</td>\n",
       "      <td>...</td>\n",
       "      <td>...</td>\n",
       "      <td>...</td>\n",
       "      <td>...</td>\n",
       "      <td>...</td>\n",
       "      <td>...</td>\n",
       "      <td>...</td>\n",
       "      <td>...</td>\n",
       "      <td>...</td>\n",
       "      <td>...</td>\n",
       "      <td>...</td>\n",
       "      <td>...</td>\n",
       "      <td>...</td>\n",
       "      <td>...</td>\n",
       "      <td>...</td>\n",
       "      <td>...</td>\n",
       "      <td>...</td>\n",
       "    </tr>\n",
       "    <tr>\n",
       "      <th>11995</th>\n",
       "      <td>posted</td>\n",
       "      <td>NaN</td>\n",
       "      <td>0</td>\n",
       "      <td>ACC-1973887809</td>\n",
       "      <td>AUD</td>\n",
       "      <td>115.78 -31.90</td>\n",
       "      <td>PAY/SALARY</td>\n",
       "      <td>NaN</td>\n",
       "      <td>0.0</td>\n",
       "      <td>Antonio</td>\n",
       "      <td>...</td>\n",
       "      <td>26</td>\n",
       "      <td>NaN</td>\n",
       "      <td>NaN</td>\n",
       "      <td>2018-10-31T16:00:00.000+0000</td>\n",
       "      <td>1098.91</td>\n",
       "      <td>0e6cffb4401043c891ab7a50ec594208</td>\n",
       "      <td>Australia</td>\n",
       "      <td>CUS-1646621553</td>\n",
       "      <td>NaN</td>\n",
       "      <td>credit</td>\n",
       "    </tr>\n",
       "    <tr>\n",
       "      <th>12000</th>\n",
       "      <td>posted</td>\n",
       "      <td>NaN</td>\n",
       "      <td>0</td>\n",
       "      <td>ACC-819621312</td>\n",
       "      <td>AUD</td>\n",
       "      <td>145.04 -37.85</td>\n",
       "      <td>PAY/SALARY</td>\n",
       "      <td>NaN</td>\n",
       "      <td>0.0</td>\n",
       "      <td>Michele</td>\n",
       "      <td>...</td>\n",
       "      <td>30</td>\n",
       "      <td>NaN</td>\n",
       "      <td>NaN</td>\n",
       "      <td>2018-10-31T17:00:00.000+0000</td>\n",
       "      <td>1158.15</td>\n",
       "      <td>ad13e06fffba4771b3c994f9147e68c0</td>\n",
       "      <td>Australia</td>\n",
       "      <td>CUS-1271030853</td>\n",
       "      <td>NaN</td>\n",
       "      <td>credit</td>\n",
       "    </tr>\n",
       "    <tr>\n",
       "      <th>12001</th>\n",
       "      <td>posted</td>\n",
       "      <td>NaN</td>\n",
       "      <td>0</td>\n",
       "      <td>ACC-2920611728</td>\n",
       "      <td>AUD</td>\n",
       "      <td>144.96 -37.76</td>\n",
       "      <td>PAY/SALARY</td>\n",
       "      <td>NaN</td>\n",
       "      <td>0.0</td>\n",
       "      <td>Tyler</td>\n",
       "      <td>...</td>\n",
       "      <td>69</td>\n",
       "      <td>NaN</td>\n",
       "      <td>NaN</td>\n",
       "      <td>2018-10-31T17:00:00.000+0000</td>\n",
       "      <td>1043.12</td>\n",
       "      <td>14a1604e6ead4b54b65d7a28ec546a69</td>\n",
       "      <td>Australia</td>\n",
       "      <td>CUS-1388323263</td>\n",
       "      <td>NaN</td>\n",
       "      <td>credit</td>\n",
       "    </tr>\n",
       "    <tr>\n",
       "      <th>12003</th>\n",
       "      <td>posted</td>\n",
       "      <td>NaN</td>\n",
       "      <td>0</td>\n",
       "      <td>ACC-1799207998</td>\n",
       "      <td>AUD</td>\n",
       "      <td>150.68 -33.79</td>\n",
       "      <td>PAY/SALARY</td>\n",
       "      <td>NaN</td>\n",
       "      <td>0.0</td>\n",
       "      <td>Susan</td>\n",
       "      <td>...</td>\n",
       "      <td>20</td>\n",
       "      <td>NaN</td>\n",
       "      <td>NaN</td>\n",
       "      <td>2018-10-31T17:00:00.000+0000</td>\n",
       "      <td>1395.49</td>\n",
       "      <td>cd1b1dea1d2f43e882d3499b3717d23b</td>\n",
       "      <td>Australia</td>\n",
       "      <td>CUS-164374203</td>\n",
       "      <td>NaN</td>\n",
       "      <td>credit</td>\n",
       "    </tr>\n",
       "    <tr>\n",
       "      <th>12004</th>\n",
       "      <td>posted</td>\n",
       "      <td>NaN</td>\n",
       "      <td>0</td>\n",
       "      <td>ACC-2171593283</td>\n",
       "      <td>AUD</td>\n",
       "      <td>146.94 -36.04</td>\n",
       "      <td>PAY/SALARY</td>\n",
       "      <td>NaN</td>\n",
       "      <td>0.0</td>\n",
       "      <td>Fernando</td>\n",
       "      <td>...</td>\n",
       "      <td>19</td>\n",
       "      <td>NaN</td>\n",
       "      <td>NaN</td>\n",
       "      <td>2018-10-31T17:00:00.000+0000</td>\n",
       "      <td>2639.76</td>\n",
       "      <td>d4804402c1c34e0ebc53a4c395e0c63d</td>\n",
       "      <td>Australia</td>\n",
       "      <td>CUS-2317998716</td>\n",
       "      <td>NaN</td>\n",
       "      <td>credit</td>\n",
       "    </tr>\n",
       "  </tbody>\n",
       "</table>\n",
       "<p>883 rows × 23 columns</p>\n",
       "</div>"
      ],
      "text/plain": [
       "       status  card_present_flag bpay_biller_code         account currency  \\\n",
       "50     posted                NaN                0   ACC-588564840      AUD   \n",
       "61     posted                NaN                0  ACC-1650504218      AUD   \n",
       "64     posted                NaN                0  ACC-3326339947      AUD   \n",
       "68     posted                NaN                0  ACC-3541460373      AUD   \n",
       "70     posted                NaN                0  ACC-2776252858      AUD   \n",
       "...       ...                ...              ...             ...      ...   \n",
       "11995  posted                NaN                0  ACC-1973887809      AUD   \n",
       "12000  posted                NaN                0   ACC-819621312      AUD   \n",
       "12001  posted                NaN                0  ACC-2920611728      AUD   \n",
       "12003  posted                NaN                0  ACC-1799207998      AUD   \n",
       "12004  posted                NaN                0  ACC-2171593283      AUD   \n",
       "\n",
       "            long_lat txn_description merchant_id  merchant_code first_name  \\\n",
       "50     151.27 -33.76      PAY/SALARY         NaN            0.0     Isaiah   \n",
       "61     145.01 -37.93      PAY/SALARY         NaN            0.0    Marissa   \n",
       "64     151.18 -33.80      PAY/SALARY         NaN            0.0       Eric   \n",
       "68     145.00 -37.83      PAY/SALARY         NaN            0.0    Jeffrey   \n",
       "70     144.95 -37.76      PAY/SALARY         NaN            0.0    Kristin   \n",
       "...              ...             ...         ...            ...        ...   \n",
       "11995  115.78 -31.90      PAY/SALARY         NaN            0.0    Antonio   \n",
       "12000  145.04 -37.85      PAY/SALARY         NaN            0.0    Michele   \n",
       "12001  144.96 -37.76      PAY/SALARY         NaN            0.0      Tyler   \n",
       "12003  150.68 -33.79      PAY/SALARY         NaN            0.0      Susan   \n",
       "12004  146.94 -36.04      PAY/SALARY         NaN            0.0   Fernando   \n",
       "\n",
       "       ...  age merchant_suburb merchant_state                    extraction  \\\n",
       "50     ...   23             NaN            NaN  2018-08-01T11:00:00.000+0000   \n",
       "61     ...   23             NaN            NaN  2018-08-01T12:00:00.000+0000   \n",
       "64     ...   22             NaN            NaN  2018-08-01T12:00:00.000+0000   \n",
       "68     ...   24             NaN            NaN  2018-08-01T13:00:00.000+0000   \n",
       "70     ...   43             NaN            NaN  2018-08-01T13:00:00.000+0000   \n",
       "...    ...  ...             ...            ...                           ...   \n",
       "11995  ...   26             NaN            NaN  2018-10-31T16:00:00.000+0000   \n",
       "12000  ...   30             NaN            NaN  2018-10-31T17:00:00.000+0000   \n",
       "12001  ...   69             NaN            NaN  2018-10-31T17:00:00.000+0000   \n",
       "12003  ...   20             NaN            NaN  2018-10-31T17:00:00.000+0000   \n",
       "12004  ...   19             NaN            NaN  2018-10-31T17:00:00.000+0000   \n",
       "\n",
       "        amount                    transaction_id    country     customer_id  \\\n",
       "50     3903.95  9ca281650e5d482d9e53f85e959baa66  Australia  CUS-1462656821   \n",
       "61     1626.48  1822eb0e1bbe4c9e95ebbb0fa2cc4323  Australia  CUS-2500783281   \n",
       "64      983.36  bd62b1799a454cedbbb56364f7c40cbf  Australia   CUS-326006476   \n",
       "68     1408.08  0d95c7c932bb48e5b44c2637bdd3efe9  Australia  CUS-1433879684   \n",
       "70     1068.04  f50ccf1195214d14a0acbfcb5a265193  Australia  CUS-4123612273   \n",
       "...        ...                               ...        ...             ...   \n",
       "11995  1098.91  0e6cffb4401043c891ab7a50ec594208  Australia  CUS-1646621553   \n",
       "12000  1158.15  ad13e06fffba4771b3c994f9147e68c0  Australia  CUS-1271030853   \n",
       "12001  1043.12  14a1604e6ead4b54b65d7a28ec546a69  Australia  CUS-1388323263   \n",
       "12003  1395.49  cd1b1dea1d2f43e882d3499b3717d23b  Australia   CUS-164374203   \n",
       "12004  2639.76  d4804402c1c34e0ebc53a4c395e0c63d  Australia  CUS-2317998716   \n",
       "\n",
       "      merchant_long_lat movement  \n",
       "50                  NaN   credit  \n",
       "61                  NaN   credit  \n",
       "64                  NaN   credit  \n",
       "68                  NaN   credit  \n",
       "70                  NaN   credit  \n",
       "...                 ...      ...  \n",
       "11995               NaN   credit  \n",
       "12000               NaN   credit  \n",
       "12001               NaN   credit  \n",
       "12003               NaN   credit  \n",
       "12004               NaN   credit  \n",
       "\n",
       "[883 rows x 23 columns]"
      ]
     },
     "execution_count": 114,
     "metadata": {},
     "output_type": "execute_result"
    }
   ],
   "source": [
    "dfsal = df.loc[df['txn_description']=='PAY/SALARY']\n",
    "dfsal"
   ]
  },
  {
   "cell_type": "code",
   "execution_count": 115,
   "id": "b603ecf6",
   "metadata": {},
   "outputs": [
    {
     "data": {
      "text/plain": [
       "account\n",
       "ACC-1037050564    3865.723333\n",
       "ACC-1056639002    6390.020000\n",
       "ACC-1199531521    8833.486667\n",
       "ACC-1217063613    3242.413333\n",
       "ACC-1222300524    4342.563333\n",
       "                     ...     \n",
       "ACC-854938045     5923.586667\n",
       "ACC-90814749      4617.340000\n",
       "ACC-958000567     8207.756667\n",
       "ACC-964839203     6760.866667\n",
       "ACC-966140392     6003.456667\n",
       "Name: amount, Length: 100, dtype: float64"
      ]
     },
     "execution_count": 115,
     "metadata": {},
     "output_type": "execute_result"
    }
   ],
   "source": [
    "dfsal.groupby('account')['amount'].sum()/3 # total amount salary for three months"
   ]
  },
  {
   "cell_type": "code",
   "execution_count": 116,
   "id": "4ac88e7b",
   "metadata": {},
   "outputs": [
    {
     "data": {
      "text/html": [
       "<div>\n",
       "<style scoped>\n",
       "    .dataframe tbody tr th:only-of-type {\n",
       "        vertical-align: middle;\n",
       "    }\n",
       "\n",
       "    .dataframe tbody tr th {\n",
       "        vertical-align: top;\n",
       "    }\n",
       "\n",
       "    .dataframe thead th {\n",
       "        text-align: right;\n",
       "    }\n",
       "</style>\n",
       "<table border=\"1\" class=\"dataframe\">\n",
       "  <thead>\n",
       "    <tr style=\"text-align: right;\">\n",
       "      <th></th>\n",
       "      <th>amount</th>\n",
       "      <th>age</th>\n",
       "    </tr>\n",
       "    <tr>\n",
       "      <th>account</th>\n",
       "      <th></th>\n",
       "      <th></th>\n",
       "    </tr>\n",
       "  </thead>\n",
       "  <tbody>\n",
       "    <tr>\n",
       "      <th>ACC-1037050564</th>\n",
       "      <td>11597.17</td>\n",
       "      <td>40.0</td>\n",
       "    </tr>\n",
       "    <tr>\n",
       "      <th>ACC-1056639002</th>\n",
       "      <td>19170.06</td>\n",
       "      <td>22.0</td>\n",
       "    </tr>\n",
       "    <tr>\n",
       "      <th>ACC-1199531521</th>\n",
       "      <td>26500.46</td>\n",
       "      <td>52.0</td>\n",
       "    </tr>\n",
       "    <tr>\n",
       "      <th>ACC-1217063613</th>\n",
       "      <td>9727.24</td>\n",
       "      <td>27.0</td>\n",
       "    </tr>\n",
       "    <tr>\n",
       "      <th>ACC-1222300524</th>\n",
       "      <td>13027.69</td>\n",
       "      <td>38.0</td>\n",
       "    </tr>\n",
       "    <tr>\n",
       "      <th>...</th>\n",
       "      <td>...</td>\n",
       "      <td>...</td>\n",
       "    </tr>\n",
       "    <tr>\n",
       "      <th>ACC-854938045</th>\n",
       "      <td>17770.76</td>\n",
       "      <td>28.0</td>\n",
       "    </tr>\n",
       "    <tr>\n",
       "      <th>ACC-90814749</th>\n",
       "      <td>13852.02</td>\n",
       "      <td>35.0</td>\n",
       "    </tr>\n",
       "    <tr>\n",
       "      <th>ACC-958000567</th>\n",
       "      <td>24623.27</td>\n",
       "      <td>34.0</td>\n",
       "    </tr>\n",
       "    <tr>\n",
       "      <th>ACC-964839203</th>\n",
       "      <td>20282.60</td>\n",
       "      <td>21.0</td>\n",
       "    </tr>\n",
       "    <tr>\n",
       "      <th>ACC-966140392</th>\n",
       "      <td>18010.37</td>\n",
       "      <td>21.0</td>\n",
       "    </tr>\n",
       "  </tbody>\n",
       "</table>\n",
       "<p>100 rows × 2 columns</p>\n",
       "</div>"
      ],
      "text/plain": [
       "                  amount   age\n",
       "account                       \n",
       "ACC-1037050564  11597.17  40.0\n",
       "ACC-1056639002  19170.06  22.0\n",
       "ACC-1199531521  26500.46  52.0\n",
       "ACC-1217063613   9727.24  27.0\n",
       "ACC-1222300524  13027.69  38.0\n",
       "...                  ...   ...\n",
       "ACC-854938045   17770.76  28.0\n",
       "ACC-90814749    13852.02  35.0\n",
       "ACC-958000567   24623.27  34.0\n",
       "ACC-964839203   20282.60  21.0\n",
       "ACC-966140392   18010.37  21.0\n",
       "\n",
       "[100 rows x 2 columns]"
      ]
     },
     "execution_count": 116,
     "metadata": {},
     "output_type": "execute_result"
    }
   ],
   "source": [
    "df100 = dfsal.groupby('account').agg({'amount': 'sum', 'age': 'mean'})\n",
    "df100"
   ]
  },
  {
   "cell_type": "code",
   "execution_count": 117,
   "id": "64cd3d58",
   "metadata": {},
   "outputs": [
    {
     "data": {
      "image/png": "[encoded data removed]",
      "text/plain": [
       "<Figure size 432x288 with 1 Axes>"
      ]
     },
     "metadata": {
      "needs_background": "light"
     },
     "output_type": "display_data"
    }
   ],
   "source": [
    "plt.scatter(df100['age'],df100['amount']*4)\n",
    "plt.xlabel('Age')\n",
    "plt.ylabel('Annual Salary')\n",
    "plt.title('Annual Salary vs Age')\n",
    "plt.show()"
   ]
  },
  {
   "cell_type": "code",
   "execution_count": 118,
   "id": "4c8e5ec0",
   "metadata": {},
   "outputs": [],
   "source": [
    "#df = df.drop(df[df.score < 50].index)\n",
    "dfspend = df.drop(df[df['txn_description']=='PAY/SALARY'].index)\n",
    "df100['spend'] = 0.0\n",
    "for i in range(df100.shape[0]):\n",
    "    accno = df100.index[i]\n",
    "    dfacc = dfspend.loc[dfspend['account']==accno]\n",
    "    spend = dfacc['amount'].sum()\n",
    "    \n",
    "    df100.loc[df100.index==accno, 'spend']=spend"
   ]
  },
  {
   "cell_type": "code",
   "execution_count": 119,
   "id": "60dcfc0a",
   "metadata": {},
   "outputs": [
    {
     "data": {
      "text/html": [
       "<div>\n",
       "<style scoped>\n",
       "    .dataframe tbody tr th:only-of-type {\n",
       "        vertical-align: middle;\n",
       "    }\n",
       "\n",
       "    .dataframe tbody tr th {\n",
       "        vertical-align: top;\n",
       "    }\n",
       "\n",
       "    .dataframe thead th {\n",
       "        text-align: right;\n",
       "    }\n",
       "</style>\n",
       "<table border=\"1\" class=\"dataframe\">\n",
       "  <thead>\n",
       "    <tr style=\"text-align: right;\">\n",
       "      <th></th>\n",
       "      <th>amount</th>\n",
       "      <th>age</th>\n",
       "      <th>spend</th>\n",
       "    </tr>\n",
       "    <tr>\n",
       "      <th>account</th>\n",
       "      <th></th>\n",
       "      <th></th>\n",
       "      <th></th>\n",
       "    </tr>\n",
       "  </thead>\n",
       "  <tbody>\n",
       "    <tr>\n",
       "      <th>ACC-1037050564</th>\n",
       "      <td>11597.17</td>\n",
       "      <td>40.0</td>\n",
       "      <td>7689.27</td>\n",
       "    </tr>\n",
       "    <tr>\n",
       "      <th>ACC-1056639002</th>\n",
       "      <td>19170.06</td>\n",
       "      <td>22.0</td>\n",
       "      <td>3631.53</td>\n",
       "    </tr>\n",
       "    <tr>\n",
       "      <th>ACC-1199531521</th>\n",
       "      <td>26500.46</td>\n",
       "      <td>52.0</td>\n",
       "      <td>5742.71</td>\n",
       "    </tr>\n",
       "    <tr>\n",
       "      <th>ACC-1217063613</th>\n",
       "      <td>9727.24</td>\n",
       "      <td>27.0</td>\n",
       "      <td>925.48</td>\n",
       "    </tr>\n",
       "    <tr>\n",
       "      <th>ACC-1222300524</th>\n",
       "      <td>13027.69</td>\n",
       "      <td>38.0</td>\n",
       "      <td>10668.76</td>\n",
       "    </tr>\n",
       "    <tr>\n",
       "      <th>...</th>\n",
       "      <td>...</td>\n",
       "      <td>...</td>\n",
       "      <td>...</td>\n",
       "    </tr>\n",
       "    <tr>\n",
       "      <th>ACC-854938045</th>\n",
       "      <td>17770.76</td>\n",
       "      <td>28.0</td>\n",
       "      <td>8750.79</td>\n",
       "    </tr>\n",
       "    <tr>\n",
       "      <th>ACC-90814749</th>\n",
       "      <td>13852.02</td>\n",
       "      <td>35.0</td>\n",
       "      <td>6966.78</td>\n",
       "    </tr>\n",
       "    <tr>\n",
       "      <th>ACC-958000567</th>\n",
       "      <td>24623.27</td>\n",
       "      <td>34.0</td>\n",
       "      <td>11964.98</td>\n",
       "    </tr>\n",
       "    <tr>\n",
       "      <th>ACC-964839203</th>\n",
       "      <td>20282.60</td>\n",
       "      <td>21.0</td>\n",
       "      <td>5951.86</td>\n",
       "    </tr>\n",
       "    <tr>\n",
       "      <th>ACC-966140392</th>\n",
       "      <td>18010.37</td>\n",
       "      <td>21.0</td>\n",
       "      <td>5505.83</td>\n",
       "    </tr>\n",
       "  </tbody>\n",
       "</table>\n",
       "<p>100 rows × 3 columns</p>\n",
       "</div>"
      ],
      "text/plain": [
       "                  amount   age     spend\n",
       "account                                 \n",
       "ACC-1037050564  11597.17  40.0   7689.27\n",
       "ACC-1056639002  19170.06  22.0   3631.53\n",
       "ACC-1199531521  26500.46  52.0   5742.71\n",
       "ACC-1217063613   9727.24  27.0    925.48\n",
       "ACC-1222300524  13027.69  38.0  10668.76\n",
       "...                  ...   ...       ...\n",
       "ACC-854938045   17770.76  28.0   8750.79\n",
       "ACC-90814749    13852.02  35.0   6966.78\n",
       "ACC-958000567   24623.27  34.0  11964.98\n",
       "ACC-964839203   20282.60  21.0   5951.86\n",
       "ACC-966140392   18010.37  21.0   5505.83\n",
       "\n",
       "[100 rows x 3 columns]"
      ]
     },
     "execution_count": 119,
     "metadata": {},
     "output_type": "execute_result"
    }
   ],
   "source": [
    "df100"
   ]
  },
  {
   "cell_type": "code",
   "execution_count": 120,
   "id": "4e06ae05",
   "metadata": {},
   "outputs": [
    {
     "data": {
      "image/png": "[encoded data removed]",
      "text/plain": [
       "<Figure size 432x288 with 1 Axes>"
      ]
     },
     "metadata": {
      "needs_background": "light"
     },
     "output_type": "display_data"
    }
   ],
   "source": [
    "plt.scatter(df100['amount']*4, df100['spend']/3)\n",
    "plt.ylabel('Monthly Spend')\n",
    "plt.xlabel('Annual Salary')\n",
    "plt.title('Annual Salary vs Monthly Spend')\n",
    "plt.show()"
   ]
  },
  {
   "cell_type": "code",
   "execution_count": 121,
   "id": "4ec7fa7e",
   "metadata": {},
   "outputs": [
    {
     "data": {
      "image/png": "[encoded data removed]",
      "text/plain": [
       "<Figure size 432x288 with 1 Axes>"
      ]
     },
     "metadata": {
      "needs_background": "light"
     },
     "output_type": "display_data"
    },
    {
     "name": "stdout",
     "output_type": "stream",
     "text": [
      "Intercept:  [44458.02154668]\n",
      "Slope:  [[11.55860027]]\n",
      "MSE:  619487047.4052382\n"
     ]
    }
   ],
   "source": [
    "import numpy as np\n",
    "from sklearn.linear_model import LinearRegression\n",
    "from sklearn.metrics import mean_squared_error\n",
    "\n",
    "X = (df100['spend'].values/3).reshape(-1,1)\n",
    "y = (df100['amount'].values*4).reshape(-1,1)\n",
    "\n",
    "lr = LinearRegression()\n",
    "lr.fit(X, y)\n",
    "lr.score(X, y)\n",
    "\n",
    "y_pred = lr.predict(X)\n",
    "\n",
    "plt.scatter(X, y)\n",
    "plt.plot(X, y_pred, color='red', linewidth=2)\n",
    "plt.xlabel('Monthly Spend')\n",
    "plt.ylabel('Annual Salary')\n",
    "plt.title('Linear regression fit')\n",
    "plt.show()\n",
    "\n",
    "print('Intercept: ', lr.intercept_)\n",
    "print('Slope: ', lr.coef_)\n",
    "print('MSE: ', mean_squared_error(y, y_pred))"
   ]
  },
  {
   "cell_type": "code",
   "execution_count": 122,
   "id": "f442583a",
   "metadata": {},
   "outputs": [
    {
     "name": "stdout",
     "output_type": "stream",
     "text": [
      "[44803.65760312]\n",
      "[[  3.84899816 -10.16489481]]\n",
      "619473516.2304187\n"
     ]
    }
   ],
   "source": [
    "X = df100[['spend','age']]\n",
    "y = (df100['amount'].values*4).reshape(-1,1)\n",
    "\n",
    "lr = LinearRegression()\n",
    "lr.fit(X, y)\n",
    "lr.score(X, y)\n",
    "\n",
    "y_pred = lr.predict(X)\n",
    "\n",
    "# plt.scatter(X, y)\n",
    "# plt.plot(X, y_pred, color='red', linewidth=2)\n",
    "# plt.xlabel('Monthly Spend')\n",
    "# plt.ylabel('Annual Salary')\n",
    "# plt.title('Linear regression fit')\n",
    "# plt.show()\n",
    "\n",
    "print(lr.intercept_)\n",
    "print(lr.coef_)\n",
    "print(mean_squared_error(y, y_pred))"
   ]
  },
  {
   "cell_type": "code",
   "execution_count": 123,
   "id": "c9e4e882",
   "metadata": {},
   "outputs": [],
   "source": [
    "# df100.loc[df100['amount']*4>80000]\n",
    "df100['amount'] = df100['amount']*4\n",
    "df100['spend'] = df100['spend']/3"
   ]
  },
  {
   "cell_type": "code",
   "execution_count": 124,
   "id": "d56f1915",
   "metadata": {},
   "outputs": [],
   "source": [
    "df100h = df100.loc[df100['amount']>80000]\n",
    "df100l = df100.loc[df100['amount']<=80000]"
   ]
  },
  {
   "cell_type": "code",
   "execution_count": 126,
   "id": "a95aae6c",
   "metadata": {},
   "outputs": [
    {
     "data": {
      "image/png": "[encoded data removed]",
      "text/plain": [
       "<Figure size 432x288 with 1 Axes>"
      ]
     },
     "metadata": {
      "needs_background": "light"
     },
     "output_type": "display_data"
    }
   ],
   "source": [
    "plt.scatter(df100h['amount'], df100h['spend'])\n",
    "plt.ylabel('Monthly Spend')\n",
    "plt.xlabel('Annual Salary')\n",
    "plt.title('Annual Salary vs Monthly Spend')\n",
    "plt.show()"
   ]
  },
  {
   "cell_type": "code",
   "execution_count": 150,
   "id": "191f9eb6",
   "metadata": {},
   "outputs": [
    {
     "data": {
      "text/html": [
       "<div>\n",
       "<style scoped>\n",
       "    .dataframe tbody tr th:only-of-type {\n",
       "        vertical-align: middle;\n",
       "    }\n",
       "\n",
       "    .dataframe tbody tr th {\n",
       "        vertical-align: top;\n",
       "    }\n",
       "\n",
       "    .dataframe thead th {\n",
       "        text-align: right;\n",
       "    }\n",
       "</style>\n",
       "<table border=\"1\" class=\"dataframe\">\n",
       "  <thead>\n",
       "    <tr style=\"text-align: right;\">\n",
       "      <th></th>\n",
       "      <th>amount</th>\n",
       "      <th>age</th>\n",
       "      <th>spend</th>\n",
       "      <th>label</th>\n",
       "    </tr>\n",
       "    <tr>\n",
       "      <th>account</th>\n",
       "      <th></th>\n",
       "      <th></th>\n",
       "      <th></th>\n",
       "      <th></th>\n",
       "    </tr>\n",
       "  </thead>\n",
       "  <tbody>\n",
       "    <tr>\n",
       "      <th>ACC-1037050564</th>\n",
       "      <td>46388.68</td>\n",
       "      <td>40.0</td>\n",
       "      <td>2563.090000</td>\n",
       "      <td>0</td>\n",
       "    </tr>\n",
       "    <tr>\n",
       "      <th>ACC-1056639002</th>\n",
       "      <td>76680.24</td>\n",
       "      <td>22.0</td>\n",
       "      <td>1210.510000</td>\n",
       "      <td>1</td>\n",
       "    </tr>\n",
       "    <tr>\n",
       "      <th>ACC-1199531521</th>\n",
       "      <td>106001.84</td>\n",
       "      <td>52.0</td>\n",
       "      <td>1914.236667</td>\n",
       "      <td>1</td>\n",
       "    </tr>\n",
       "    <tr>\n",
       "      <th>ACC-1217063613</th>\n",
       "      <td>38908.96</td>\n",
       "      <td>27.0</td>\n",
       "      <td>308.493333</td>\n",
       "      <td>0</td>\n",
       "    </tr>\n",
       "    <tr>\n",
       "      <th>ACC-1222300524</th>\n",
       "      <td>52110.76</td>\n",
       "      <td>38.0</td>\n",
       "      <td>3556.253333</td>\n",
       "      <td>0</td>\n",
       "    </tr>\n",
       "    <tr>\n",
       "      <th>...</th>\n",
       "      <td>...</td>\n",
       "      <td>...</td>\n",
       "      <td>...</td>\n",
       "      <td>...</td>\n",
       "    </tr>\n",
       "    <tr>\n",
       "      <th>ACC-854938045</th>\n",
       "      <td>71083.04</td>\n",
       "      <td>28.0</td>\n",
       "      <td>2916.930000</td>\n",
       "      <td>1</td>\n",
       "    </tr>\n",
       "    <tr>\n",
       "      <th>ACC-90814749</th>\n",
       "      <td>55408.08</td>\n",
       "      <td>35.0</td>\n",
       "      <td>2322.260000</td>\n",
       "      <td>0</td>\n",
       "    </tr>\n",
       "    <tr>\n",
       "      <th>ACC-958000567</th>\n",
       "      <td>98493.08</td>\n",
       "      <td>34.0</td>\n",
       "      <td>3988.326667</td>\n",
       "      <td>1</td>\n",
       "    </tr>\n",
       "    <tr>\n",
       "      <th>ACC-964839203</th>\n",
       "      <td>81130.40</td>\n",
       "      <td>21.0</td>\n",
       "      <td>1983.953333</td>\n",
       "      <td>1</td>\n",
       "    </tr>\n",
       "    <tr>\n",
       "      <th>ACC-966140392</th>\n",
       "      <td>72041.48</td>\n",
       "      <td>21.0</td>\n",
       "      <td>1835.276667</td>\n",
       "      <td>1</td>\n",
       "    </tr>\n",
       "  </tbody>\n",
       "</table>\n",
       "<p>100 rows × 4 columns</p>\n",
       "</div>"
      ],
      "text/plain": [
       "                   amount   age        spend  label\n",
       "account                                            \n",
       "ACC-1037050564   46388.68  40.0  2563.090000      0\n",
       "ACC-1056639002   76680.24  22.0  1210.510000      1\n",
       "ACC-1199531521  106001.84  52.0  1914.236667      1\n",
       "ACC-1217063613   38908.96  27.0   308.493333      0\n",
       "ACC-1222300524   52110.76  38.0  3556.253333      0\n",
       "...                   ...   ...          ...    ...\n",
       "ACC-854938045    71083.04  28.0  2916.930000      1\n",
       "ACC-90814749     55408.08  35.0  2322.260000      0\n",
       "ACC-958000567    98493.08  34.0  3988.326667      1\n",
       "ACC-964839203    81130.40  21.0  1983.953333      1\n",
       "ACC-966140392    72041.48  21.0  1835.276667      1\n",
       "\n",
       "[100 rows x 4 columns]"
      ]
     },
     "execution_count": 150,
     "metadata": {},
     "output_type": "execute_result"
    }
   ],
   "source": [
    "df100['label'] = df100['amount'].apply(lambda x: 1 if x>=67063 else 0)\n",
    "# df['category']=df['age'].apply(lambda x: 'Adult' if x>=18 else 'Child')\n",
    "df100"
   ]
  },
  {
   "cell_type": "code",
   "execution_count": 171,
   "id": "f716b5d7",
   "metadata": {},
   "outputs": [],
   "source": [
    "from sklearn.tree import DecisionTreeClassifier, plot_tree\n",
    "X=df100[['age','spend']]\n",
    "y=df100['label']"
   ]
  },
  {
   "cell_type": "code",
   "execution_count": 172,
   "id": "c1c0dff2",
   "metadata": {},
   "outputs": [
    {
     "name": "stdout",
     "output_type": "stream",
     "text": [
      "Accuracy 0.66\n"
     ]
    }
   ],
   "source": [
    "dt = DecisionTreeClassifier(criterion='entropy', max_depth=3) # we specify entropy for IG)\n",
    "dt.fit(X, y)\n",
    "print('Accuracy', dt.score(X, y))"
   ]
  },
  {
   "cell_type": "code",
   "execution_count": 175,
   "id": "3a621f09",
   "metadata": {},
   "outputs": [
    {
     "data": {
      "image/png": "[encoded data removed]",
      "text/plain": [
       "<Figure size 432x288 with 1 Axes>"
      ]
     },
     "metadata": {
      "needs_background": "light"
     },
     "output_type": "display_data"
    }
   ],
   "source": [
    "plot_tree(dt, # the DT classifier\n",
    "          feature_names=['age', 'spend'], # feature names\n",
    "          #class_names=['low', 'medium'], # class labels\n",
    "          filled=True # fill in the rectangles\n",
    "         )\n",
    "\n",
    "plt.title(\"Decision Tree Classifier\")\n",
    "\n",
    "plt.show()"
   ]
  },
  {
   "cell_type": "code",
   "execution_count": 184,
   "id": "20c297f2",
   "metadata": {},
   "outputs": [
    {
     "name": "stdout",
     "output_type": "stream",
     "text": [
      "Accuracy 0.6333333333333333\n"
     ]
    }
   ],
   "source": [
    "from sklearn.model_selection import train_test_split\n",
    "X_train, X_test, y_train, y_test = train_test_split(X, y, test_size = 0.3)\n",
    "dt = DecisionTreeClassifier(criterion='entropy', max_depth=3)\n",
    "dt.fit(X_train, y_train)\n",
    "y_pred = dt.predict(X_test)\n",
    "accuracy = dt.score(X_test, y_test)\n",
    "print('Accuracy', accuracy)"
   ]
  },
  {
   "cell_type": "code",
   "execution_count": 183,
   "id": "c027c7ea",
   "metadata": {},
   "outputs": [
    {
     "data": {
      "text/plain": [
       "67063.07400000004"
      ]
     },
     "execution_count": 183,
     "metadata": {},
     "output_type": "execute_result"
    }
   ],
   "source": [
    "df100.amount.mean()"
   ]
  },
  {
   "cell_type": "code",
   "execution_count": 185,
   "id": "86513aab",
   "metadata": {},
   "outputs": [
    {
     "data": {
      "image/png": "[encoded data removed]",
      "text/plain": [
       "<Figure size 432x288 with 2 Axes>"
      ]
     },
     "metadata": {
      "needs_background": "light"
     },
     "output_type": "display_data"
    }
   ],
   "source": [
    "from sklearn.metrics import confusion_matrix, ConfusionMatrixDisplay\n",
    "cm = confusion_matrix(y_test, # test data\n",
    "                      y_pred, # predictions\n",
    "                       # class labels from the knn model\n",
    "                     )\n",
    "\n",
    "disp = ConfusionMatrixDisplay(confusion_matrix=cm, # pass through the created confusion matrix\n",
    "                              # class labels from the knn model \n",
    "                             )\n",
    "\n",
    "disp.plot()\n",
    "\n",
    "plt.title(\"Confusion Matrix\")\n",
    "plt.show()"
   ]
  },
  {
   "cell_type": "code",
   "execution_count": null,
   "id": "5197c22c",
   "metadata": {},
   "outputs": [],
   "source": []
  }
 ],
 "metadata": {
  "kernelspec": {
   "display_name": "Python 3 (ipykernel)",
   "language": "python",
   "name": "python3"
  },
  "language_info": {
   "codemirror_mode": {
    "name": "ipython",
    "version": 3
   },
   "file_extension": ".py",
   "mimetype": "text/x-python",
   "name": "python",
   "nbconvert_exporter": "python",
   "pygments_lexer": "ipython3",
   "version": "3.9.7"
  }
 },
 "nbformat": 4,
 "nbformat_minor": 5
}
